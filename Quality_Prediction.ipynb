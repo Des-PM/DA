{
  "nbformat": 4,
  "nbformat_minor": 0,
  "metadata": {
    "colab": {
      "provenance": [],
      "authorship_tag": "ABX9TyMzfCB9DkjaMNVbDW1Pi5jR",
      "include_colab_link": true
    },
    "kernelspec": {
      "name": "python3",
      "display_name": "Python 3"
    },
    "language_info": {
      "name": "python"
    }
  },
  "cells": [
    {
      "cell_type": "markdown",
      "metadata": {
        "id": "view-in-github",
        "colab_type": "text"
      },
      "source": [
        "<a href=\"https://colab.research.google.com/github/Des-PM/DA/blob/main/Quality_Prediction.ipynb\" target=\"_parent\"><img src=\"https://colab.research.google.com/assets/colab-badge.svg\" alt=\"Open In Colab\"/></a>"
      ]
    },
    {
      "cell_type": "code",
      "execution_count": null,
      "metadata": {
        "id": "FgcnEmQk2aau"
      },
      "outputs": [],
      "source": [
        "import numpy as np\n",
        "import pandas as pd\n",
        "from sklearn.preprocessing import StandardScaler\n",
        "from sklearn.model_selection import GridSearchCV\n",
        "from imblearn.over_sampling import SMOTE  # imblearn library can be installed using pip install imblearn\n",
        "from sklearn.ensemble import RandomForestClassifier, AdaBoostClassifier\n",
        "from imblearn.pipeline import Pipeline\n",
        "from sklearn.svm import SVC\n",
        "import warnings\n",
        "warnings.filterwarnings(\"ignore\", category=FutureWarning)"
      ]
    },
    {
      "cell_type": "code",
      "source": [
        "# Importing dataset and examining it\n",
        "dataset = pd.read_csv(\"/content/QualityPrediction.csv\")\n",
        "pd.set_option('display.max_columns', None) \n",
        "print(dataset.head())\n",
        "print(dataset.shape)\n",
        "print(dataset.info())\n",
        "print(dataset.describe())"
      ],
      "metadata": {
        "colab": {
          "base_uri": "https://localhost:8080/"
        },
        "id": "C0KCr9tE37La",
        "outputId": "129a5149-ec9f-4974-885d-67c442ace629"
      },
      "execution_count": null,
      "outputs": [
        {
          "output_type": "stream",
          "name": "stdout",
          "text": [
            "   aluminium  ammonia  arsenic  barium  cadmium  chloramine  chromium  copper  \\\n",
            "0       1.65     9.08     0.04    2.85    0.007        0.35      0.83    0.17   \n",
            "1       2.32    21.16     0.01    3.31    0.002        5.28      0.68    0.66   \n",
            "2       1.01    14.02     0.04    0.58    0.008        4.24      0.53    0.02   \n",
            "3       1.36    11.33     0.04    2.96    0.001        7.23      0.03    1.66   \n",
            "4       0.92    24.33     0.03    0.20    0.006        2.67      0.69    0.57   \n",
            "\n",
            "   flouride  bacteria  viruses   lead  nitrates  nitrites  mercury  \\\n",
            "0      0.05      0.20    0.000  0.054     16.08      1.13    0.007   \n",
            "1      0.90      0.65    0.650  0.100      2.01      1.93    0.003   \n",
            "2      0.99      0.05    0.003  0.078     14.16      1.11    0.006   \n",
            "3      1.08      0.71    0.710  0.016      1.41      1.29    0.004   \n",
            "4      0.61      0.13    0.001  0.117      6.74      1.11    0.003   \n",
            "\n",
            "   perchlorate  radium  selenium  silver  uranium is_safe  \n",
            "0        37.75    6.78      0.08    0.34     0.02    Safe  \n",
            "1        32.26    3.21      0.08    0.27     0.05    Safe  \n",
            "2        50.28    7.07      0.07    0.44     0.01  Unsafe  \n",
            "3         9.12    1.72      0.02    0.45     0.05    Safe  \n",
            "4        16.90    2.41      0.02    0.06     0.02    Safe  \n",
            "(7996, 21)\n",
            "<class 'pandas.core.frame.DataFrame'>\n",
            "RangeIndex: 7996 entries, 0 to 7995\n",
            "Data columns (total 21 columns):\n",
            " #   Column       Non-Null Count  Dtype  \n",
            "---  ------       --------------  -----  \n",
            " 0   aluminium    7996 non-null   float64\n",
            " 1   ammonia      7996 non-null   float64\n",
            " 2   arsenic      7996 non-null   float64\n",
            " 3   barium       7996 non-null   float64\n",
            " 4   cadmium      7996 non-null   float64\n",
            " 5   chloramine   7996 non-null   float64\n",
            " 6   chromium     7996 non-null   float64\n",
            " 7   copper       7996 non-null   float64\n",
            " 8   flouride     7996 non-null   float64\n",
            " 9   bacteria     7996 non-null   float64\n",
            " 10  viruses      7996 non-null   float64\n",
            " 11  lead         7996 non-null   float64\n",
            " 12  nitrates     7996 non-null   float64\n",
            " 13  nitrites     7996 non-null   float64\n",
            " 14  mercury      7996 non-null   float64\n",
            " 15  perchlorate  7996 non-null   float64\n",
            " 16  radium       7996 non-null   float64\n",
            " 17  selenium     7996 non-null   float64\n",
            " 18  silver       7996 non-null   float64\n",
            " 19  uranium      7996 non-null   float64\n",
            " 20  is_safe      7996 non-null   object \n",
            "dtypes: float64(20), object(1)\n",
            "memory usage: 1.3+ MB\n",
            "None\n",
            "         aluminium      ammonia      arsenic       barium      cadmium  \\\n",
            "count  7996.000000  7996.000000  7996.000000  7996.000000  7996.000000   \n",
            "mean      0.666396    14.278212     0.161477     1.567928     0.042803   \n",
            "std       1.265323     8.878930     0.252632     1.216227     0.036049   \n",
            "min       0.000000    -0.080000     0.000000     0.000000     0.000000   \n",
            "25%       0.040000     6.577500     0.030000     0.560000     0.008000   \n",
            "50%       0.070000    14.130000     0.050000     1.190000     0.040000   \n",
            "75%       0.280000    22.132500     0.100000     2.482500     0.070000   \n",
            "max       5.050000    29.840000     1.050000     4.940000     0.130000   \n",
            "\n",
            "        chloramine     chromium       copper     flouride     bacteria  \\\n",
            "count  7996.000000  7996.000000  7996.000000  7996.000000  7996.000000   \n",
            "mean      2.177589     0.247300     0.805940     0.771646     0.319714   \n",
            "std       2.567210     0.270663     0.653595     0.435423     0.329497   \n",
            "min       0.000000     0.000000     0.000000     0.000000     0.000000   \n",
            "25%       0.100000     0.050000     0.090000     0.407500     0.000000   \n",
            "50%       0.530000     0.090000     0.750000     0.770000     0.220000   \n",
            "75%       4.240000     0.440000     1.390000     1.160000     0.610000   \n",
            "max       8.680000     0.900000     2.000000     1.500000     1.000000   \n",
            "\n",
            "           viruses         lead     nitrates     nitrites      mercury  \\\n",
            "count  7996.000000  7996.000000  7996.000000  7996.000000  7996.000000   \n",
            "mean      0.328706     0.099431     9.819250     1.329846     0.005193   \n",
            "std       0.378113     0.058169     5.541977     0.573271     0.002967   \n",
            "min       0.000000     0.000000     0.000000     0.000000     0.000000   \n",
            "25%       0.002000     0.048000     5.000000     1.000000     0.003000   \n",
            "50%       0.008000     0.102000     9.930000     1.420000     0.005000   \n",
            "75%       0.700000     0.151000    14.610000     1.760000     0.008000   \n",
            "max       1.000000     0.200000    19.830000     2.930000     0.010000   \n",
            "\n",
            "       perchlorate       radium     selenium       silver      uranium  \n",
            "count  7996.000000  7996.000000  7996.000000  7996.000000  7996.000000  \n",
            "mean     16.465266     2.920106     0.049684     0.147811     0.044672  \n",
            "std      17.688827     2.322805     0.028773     0.143569     0.026906  \n",
            "min       0.000000     0.000000     0.000000     0.000000     0.000000  \n",
            "25%       2.170000     0.820000     0.020000     0.040000     0.020000  \n",
            "50%       7.745000     2.410000     0.050000     0.080000     0.050000  \n",
            "75%      29.487500     4.670000     0.070000     0.240000     0.070000  \n",
            "max      60.010000     7.990000     0.100000     0.500000     0.090000  \n"
          ]
        }
      ]
    },
    {
      "cell_type": "code",
      "source": [
        "# Converting Categorical features into Numerical features\n",
        "dataset['is_safe'] = dataset['is_safe'].map({'Safe':1,'Unsafe':0})\n",
        "print(dataset.info())\n",
        "print(dataset.head())"
      ],
      "metadata": {
        "colab": {
          "base_uri": "https://localhost:8080/"
        },
        "id": "AcHdgg9b4hEC",
        "outputId": "0ee22881-bc35-4704-a4a4-fad9cda956bd"
      },
      "execution_count": null,
      "outputs": [
        {
          "output_type": "stream",
          "name": "stdout",
          "text": [
            "<class 'pandas.core.frame.DataFrame'>\n",
            "RangeIndex: 7996 entries, 0 to 7995\n",
            "Data columns (total 21 columns):\n",
            " #   Column       Non-Null Count  Dtype  \n",
            "---  ------       --------------  -----  \n",
            " 0   aluminium    7996 non-null   float64\n",
            " 1   ammonia      7996 non-null   float64\n",
            " 2   arsenic      7996 non-null   float64\n",
            " 3   barium       7996 non-null   float64\n",
            " 4   cadmium      7996 non-null   float64\n",
            " 5   chloramine   7996 non-null   float64\n",
            " 6   chromium     7996 non-null   float64\n",
            " 7   copper       7996 non-null   float64\n",
            " 8   flouride     7996 non-null   float64\n",
            " 9   bacteria     7996 non-null   float64\n",
            " 10  viruses      7996 non-null   float64\n",
            " 11  lead         7996 non-null   float64\n",
            " 12  nitrates     7996 non-null   float64\n",
            " 13  nitrites     7996 non-null   float64\n",
            " 14  mercury      7996 non-null   float64\n",
            " 15  perchlorate  7996 non-null   float64\n",
            " 16  radium       7996 non-null   float64\n",
            " 17  selenium     7996 non-null   float64\n",
            " 18  silver       7996 non-null   float64\n",
            " 19  uranium      7996 non-null   float64\n",
            " 20  is_safe      7996 non-null   int64  \n",
            "dtypes: float64(20), int64(1)\n",
            "memory usage: 1.3 MB\n",
            "None\n",
            "   aluminium  ammonia  arsenic  barium  cadmium  chloramine  chromium  copper  \\\n",
            "0       1.65     9.08     0.04    2.85    0.007        0.35      0.83    0.17   \n",
            "1       2.32    21.16     0.01    3.31    0.002        5.28      0.68    0.66   \n",
            "2       1.01    14.02     0.04    0.58    0.008        4.24      0.53    0.02   \n",
            "3       1.36    11.33     0.04    2.96    0.001        7.23      0.03    1.66   \n",
            "4       0.92    24.33     0.03    0.20    0.006        2.67      0.69    0.57   \n",
            "\n",
            "   flouride  bacteria  viruses   lead  nitrates  nitrites  mercury  \\\n",
            "0      0.05      0.20    0.000  0.054     16.08      1.13    0.007   \n",
            "1      0.90      0.65    0.650  0.100      2.01      1.93    0.003   \n",
            "2      0.99      0.05    0.003  0.078     14.16      1.11    0.006   \n",
            "3      1.08      0.71    0.710  0.016      1.41      1.29    0.004   \n",
            "4      0.61      0.13    0.001  0.117      6.74      1.11    0.003   \n",
            "\n",
            "   perchlorate  radium  selenium  silver  uranium  is_safe  \n",
            "0        37.75    6.78      0.08    0.34     0.02        1  \n",
            "1        32.26    3.21      0.08    0.27     0.05        1  \n",
            "2        50.28    7.07      0.07    0.44     0.01        0  \n",
            "3         9.12    1.72      0.02    0.45     0.05        1  \n",
            "4        16.90    2.41      0.02    0.06     0.02        1  \n"
          ]
        }
      ]
    },
    {
      "cell_type": "code",
      "source": [
        "# Dividing dataset into label and feature sets\n",
        "\n",
        "X = dataset.drop('is_safe', axis = 1) # Features\n",
        "Y = dataset['is_safe'] # Labels\n",
        "print(type(X))\n",
        "print(type(Y))\n",
        "print(X.shape)\n",
        "print(Y.shape)"
      ],
      "metadata": {
        "colab": {
          "base_uri": "https://localhost:8080/"
        },
        "id": "apcfKJpw7AZm",
        "outputId": "69e9337d-e90c-4309-9225-4e64d39f1888"
      },
      "execution_count": null,
      "outputs": [
        {
          "output_type": "stream",
          "name": "stdout",
          "text": [
            "<class 'pandas.core.frame.DataFrame'>\n",
            "<class 'pandas.core.series.Series'>\n",
            "(7996, 20)\n",
            "(7996,)\n"
          ]
        }
      ]
    },
    {
      "cell_type": "code",
      "source": [
        "# Normalizing numerical features so that each feature has mean 0 and variance 1\n",
        "feature_scaler = StandardScaler()\n",
        "X_scaled = feature_scaler.fit_transform(X)"
      ],
      "metadata": {
        "id": "kVx9vLqU7Lua"
      },
      "execution_count": null,
      "outputs": []
    },
    {
      "cell_type": "code",
      "source": [
        "# Implementing Random Forest Classifier\n",
        "# Tuning the random forest parameter 'n_estimators' and implementing cross-validation using Grid Search\n",
        "model = Pipeline([\n",
        "        ('balancing', SMOTE(random_state = 101)),\n",
        "        ('classification', RandomForestClassifier(criterion='entropy', max_features='auto', random_state=1) )\n",
        "    ])\n",
        "grid_param = {'classification__n_estimators': [10,20,30,40,50,100,150,200]}\n",
        "\n",
        "gd_sr = GridSearchCV(estimator=model, param_grid=grid_param, scoring='recall', cv=5)\n",
        "\n",
        "\"\"\"\n",
        "In the above GridSearchCV(), scoring parameter should be set as follows:\n",
        "scoring = 'accuracy' when you want to maximize prediction accuracy\n",
        "scoring = 'recall' when you want to minimize false negatives\n",
        "scoring = 'precision' when you want to minimize false positives\n",
        "scoring = 'f1' when you want to balance false positives and false negatives (place equal emphasis on minimizing both)\n",
        "\"\"\"\n",
        "\n",
        "gd_sr.fit(X_scaled, Y)\n",
        "\n",
        "best_parameters = gd_sr.best_params_\n",
        "print(best_parameters)\n",
        "\n",
        "best_result = gd_sr.best_score_ # Mean cross-validated score of the best_estimator\n",
        "print(best_result)\n",
        "featimp = pd.Series(gd_sr.best_estimator_.named_steps[\"classification\"].feature_importances_, index=list(X)).sort_values(ascending=False) # Getting feature importances list for the best model\n",
        "print(featimp)"
      ],
      "metadata": {
        "colab": {
          "base_uri": "https://localhost:8080/"
        },
        "id": "SlboX2EPkQx0",
        "outputId": "d58a7eab-564c-4b4f-8052-4408add1e28b"
      },
      "execution_count": null,
      "outputs": [
        {
          "output_type": "stream",
          "name": "stdout",
          "text": [
            "{'classification__n_estimators': 150}\n",
            "0.6946376028343242\n",
            "aluminium      0.187545\n",
            "cadmium        0.119650\n",
            "perchlorate    0.079742\n",
            "silver         0.068802\n",
            "arsenic        0.063914\n",
            "viruses        0.056097\n",
            "chloramine     0.052679\n",
            "uranium        0.050172\n",
            "nitrites       0.040960\n",
            "chromium       0.039807\n",
            "nitrates       0.035601\n",
            "bacteria       0.032806\n",
            "radium         0.030250\n",
            "copper         0.029429\n",
            "ammonia        0.026621\n",
            "lead           0.024288\n",
            "barium         0.019546\n",
            "selenium       0.017077\n",
            "mercury        0.012842\n",
            "flouride       0.012173\n",
            "dtype: float64\n"
          ]
        }
      ]
    },
    {
      "cell_type": "code",
      "source": [
        "\n",
        "# selecting features with higher sifnificance and redefining feature set\n",
        "X_= dataset[['aluminium', 'cadmium', 'perchlorate', 'silver', 'arsenic', 'viruses', 'chloramine', 'uranium']]\n",
        "\n",
        "feature_scaler = StandardScaler()\n",
        "X_scaled_ = feature_scaler.fit_transform(X_)\n",
        "\n",
        "#Tuning the random forest parameter 'n_estimators' and implementing cross-validation using Grid Search\n",
        "model = Pipeline([\n",
        "        ('balancing', SMOTE(random_state = 101)),\n",
        "        ('classification', RandomForestClassifier(criterion='entropy', max_features='auto', random_state=1) )\n",
        "    ])\n",
        "grid_param = {'classification__n_estimators': [150]}\n",
        "\n",
        "gd_sr = GridSearchCV(estimator=model, param_grid=grid_param, scoring='recall', cv=5)\n",
        "\n",
        "\"\"\"\n",
        "In the above GridSearchCV(), scoring parameter should be set as follows:\n",
        "scoring = 'accuracy' when you want to maximize prediction accuracy\n",
        "scoring = 'recall' when you want to minimize false negatives\n",
        "scoring = 'precision' when you want to minimize false positives\n",
        "scoring = 'f1' when you want to balance false positives and false negatives (place equal emphasis on minimizing both)\n",
        "\"\"\"\n",
        "\n",
        "gd_sr.fit(X_scaled_, Y)\n",
        "\n",
        "best_parameters = gd_sr.best_params_\n",
        "print(best_parameters)\n",
        "\n",
        "best_result = gd_sr.best_score_ # Mean cross-validated score of the best_estimator\n",
        "print(best_result)\n"
      ],
      "metadata": {
        "colab": {
          "base_uri": "https://localhost:8080/"
        },
        "id": "siKJlvd57kgn",
        "outputId": "680cd308-d8f3-4e2f-882a-a679e85bdba2"
      },
      "execution_count": null,
      "outputs": [
        {
          "output_type": "stream",
          "name": "stdout",
          "text": [
            "{'classification__n_estimators': 150}\n",
            "0.6628175103584939\n"
          ]
        }
      ]
    },
    {
      "cell_type": "code",
      "source": [
        "################################################################################\n",
        "# Implementing AdaBoost\n",
        "# Tuning the AdaBoost parameter 'n_estimators' and implementing cross-validation using Grid Search\n",
        "\n",
        "\n",
        "model = Pipeline([\n",
        "        ('balancing', SMOTE(random_state = 101)),\n",
        "        ('classification', AdaBoostClassifier(random_state=1))\n",
        "    ])\n",
        "grid_param = {'classification__n_estimators': [2,3,4,5,10,20,30,40,50,100]}\n",
        "\n",
        "gd_sr = GridSearchCV(estimator=model, param_grid=grid_param, scoring='recall', cv=5)\n",
        "\n",
        "\"\"\"\n",
        "In the above GridSearchCV(), scoring parameter should be set as follows:\n",
        "scoring = 'accuracy' when you want to maximize prediction accuracy\n",
        "scoring = 'recall' when you want to minimize false negatives\n",
        "scoring = 'precision' when you want to minimize false positives\n",
        "scoring = 'f1' when you want to balance false positives and false negatives (place equal emphasis on minimizing both)\n",
        "\"\"\"\n",
        "\n",
        "gd_sr.fit(X_scaled, Y)\n",
        "\n",
        "best_parameters = gd_sr.best_params_\n",
        "print(best_parameters)\n",
        "\n",
        "best_result = gd_sr.best_score_ # Mean cross-validated score of the best_estimator\n",
        "print(best_result)\n",
        "\n",
        "featimp = pd.Series(gd_sr.best_estimator_.named_steps[\"classification\"].feature_importances_, index=list(X)).sort_values(ascending=False) # Getting feature importances list for the best model\n",
        "print(featimp)\n"
      ],
      "metadata": {
        "colab": {
          "base_uri": "https://localhost:8080/"
        },
        "id": "M1fpOIxe8Vx3",
        "outputId": "20d906dc-8058-42fe-d35a-4ba2c418b64c"
      },
      "execution_count": null,
      "outputs": [
        {
          "output_type": "stream",
          "name": "stdout",
          "text": [
            "{'classification__n_estimators': 4}\n",
            "0.7242719029604274\n",
            "aluminium      0.25\n",
            "silver         0.25\n",
            "cadmium        0.25\n",
            "perchlorate    0.25\n",
            "lead           0.00\n",
            "selenium       0.00\n",
            "radium         0.00\n",
            "mercury        0.00\n",
            "nitrites       0.00\n",
            "nitrates       0.00\n",
            "viruses        0.00\n",
            "ammonia        0.00\n",
            "bacteria       0.00\n",
            "flouride       0.00\n",
            "copper         0.00\n",
            "chromium       0.00\n",
            "chloramine     0.00\n",
            "barium         0.00\n",
            "arsenic        0.00\n",
            "uranium        0.00\n",
            "dtype: float64\n"
          ]
        }
      ]
    },
    {
      "cell_type": "code",
      "source": [
        "# Implementing Support Vector Classifier\n",
        "# Tuning the kernel parameter and implementing cross-validation using Grid Search\n",
        "model = Pipeline([\n",
        "        ('balancing', SMOTE(random_state = 101)),\n",
        "        ('classification', SVC(random_state=1) )\n",
        "    ])\n",
        "grid_param = {'classification__kernel': ['linear','poly','rbf','sigmoid'], 'classification__C': [.001,.01,.1,1,10,100]}\n",
        "\n",
        "gd_sr = GridSearchCV(estimator=model, param_grid=grid_param, scoring='recall', cv=5)\n",
        "\n",
        "\"\"\"\n",
        "In the above GridSearchCV(), scoring parameter should be set as follows:\n",
        "scoring = 'accuracy' when you want to maximize prediction accuracy\n",
        "scoring = 'recall' when you want to minimize false negatives\n",
        "scoring = 'precision' when you want to minimize false positives\n",
        "scoring = 'f1' when you want to balance false positives and false negatives (place equal emphasis on minimizing both)\n",
        "\"\"\"\n",
        "\n",
        "gd_sr.fit(X_scaled, Y)\n",
        "\n",
        "best_parameters = gd_sr.best_params_\n",
        "print(best_parameters)\n",
        "best_result = gd_sr.best_score_ # Mean cross-validated score of the best_estimator\n",
        "print(best_result)\n"
      ],
      "metadata": {
        "colab": {
          "base_uri": "https://localhost:8080/"
        },
        "id": "5mk7Oapp9vgR",
        "outputId": "315698fe-6865-4262-ca10-91d02318b7a7"
      },
      "execution_count": null,
      "outputs": [
        {
          "output_type": "stream",
          "name": "stdout",
          "text": [
            "{'classification__C': 0.001, 'classification__kernel': 'sigmoid'}\n",
            "0.7385576172461419\n"
          ]
        }
      ]
    }
  ]
}