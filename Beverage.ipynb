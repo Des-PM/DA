{
  "nbformat": 4,
  "nbformat_minor": 0,
  "metadata": {
    "colab": {
      "provenance": [],
      "authorship_tag": "ABX9TyN2HWRduZQI18tcLEbCc4/c",
      "include_colab_link": true
    },
    "kernelspec": {
      "name": "python3",
      "display_name": "Python 3"
    },
    "language_info": {
      "name": "python"
    }
  },
  "cells": [
    {
      "cell_type": "markdown",
      "metadata": {
        "id": "view-in-github",
        "colab_type": "text"
      },
      "source": [
        "<a href=\"https://colab.research.google.com/github/Des-PM/DA/blob/main/Beverage.ipynb\" target=\"_parent\"><img src=\"https://colab.research.google.com/assets/colab-badge.svg\" alt=\"Open In Colab\"/></a>"
      ]
    },
    {
      "cell_type": "code",
      "execution_count": null,
      "metadata": {
        "id": "0RRIdCM1wFvC"
      },
      "outputs": [],
      "source": [
        "import numpy as np\n",
        "import pandas as pd\n",
        "from sklearn.preprocessing import StandardScaler\n",
        "from sklearn.model_selection import GridSearchCV\n",
        "from imblearn.over_sampling import SMOTE  # imblearn library can be installed using pip install imblearn\n",
        "from sklearn.ensemble import RandomForestClassifier\n",
        "from imblearn.pipeline import Pipeline\n",
        "import warnings\n",
        "warnings.filterwarnings(\"ignore\", category=FutureWarning)"
      ]
    },
    {
      "cell_type": "code",
      "source": [
        "# Importing dataset and examining it\n",
        "dataset = pd.read_csv(\"/content/Beverage.csv\")\n",
        "pd.set_option('display.max_columns', None) \n",
        "print(dataset.head())\n",
        "print(dataset.shape)\n",
        "print(dataset.info())\n",
        "print(dataset.describe())"
      ],
      "metadata": {
        "colab": {
          "base_uri": "https://localhost:8080/"
        },
        "id": "u1mfjGilw3L-",
        "outputId": "28df6ab7-60ca-4b39-e71c-a29597ade13f"
      },
      "execution_count": null,
      "outputs": [
        {
          "output_type": "stream",
          "name": "stdout",
          "text": [
            "   fixed acidity  volatile acidity  citric acid  residual sugar  chlorides  \\\n",
            "0            7.0              0.27         0.36            20.7      0.045   \n",
            "1            6.3              0.30         0.34             1.6      0.049   \n",
            "2            8.1              0.28         0.40             6.9      0.050   \n",
            "3            7.2              0.23         0.32             8.5      0.058   \n",
            "4            7.2              0.23         0.32             8.5      0.058   \n",
            "\n",
            "   free sulfur dioxide  total sulfur dioxide  density    pH  sulphates  \\\n",
            "0                 45.0                 170.0   1.0010  3.00       0.45   \n",
            "1                 14.0                 132.0   0.9940  3.30       0.49   \n",
            "2                 30.0                  97.0   0.9951  3.26       0.44   \n",
            "3                 47.0                 186.0   0.9956  3.19       0.40   \n",
            "4                 47.0                 186.0   0.9956  3.19       0.40   \n",
            "\n",
            "   alcohol quality  \n",
            "0      8.8  Normal  \n",
            "1      9.5  Normal  \n",
            "2     10.1  Normal  \n",
            "3      9.9  Normal  \n",
            "4      9.9  Normal  \n",
            "(4898, 12)\n",
            "<class 'pandas.core.frame.DataFrame'>\n",
            "RangeIndex: 4898 entries, 0 to 4897\n",
            "Data columns (total 12 columns):\n",
            " #   Column                Non-Null Count  Dtype  \n",
            "---  ------                --------------  -----  \n",
            " 0   fixed acidity         4898 non-null   float64\n",
            " 1   volatile acidity      4898 non-null   float64\n",
            " 2   citric acid           4898 non-null   float64\n",
            " 3   residual sugar        4898 non-null   float64\n",
            " 4   chlorides             4898 non-null   float64\n",
            " 5   free sulfur dioxide   4898 non-null   float64\n",
            " 6   total sulfur dioxide  4898 non-null   float64\n",
            " 7   density               4898 non-null   float64\n",
            " 8   pH                    4898 non-null   float64\n",
            " 9   sulphates             4898 non-null   float64\n",
            " 10  alcohol               4898 non-null   float64\n",
            " 11  quality               4898 non-null   object \n",
            "dtypes: float64(11), object(1)\n",
            "memory usage: 459.3+ KB\n",
            "None\n",
            "       fixed acidity  volatile acidity  citric acid  residual sugar  \\\n",
            "count    4898.000000       4898.000000  4898.000000     4898.000000   \n",
            "mean        6.854788          0.278241     0.334192        6.391415   \n",
            "std         0.843868          0.100795     0.121020        5.072058   \n",
            "min         3.800000          0.080000     0.000000        0.600000   \n",
            "25%         6.300000          0.210000     0.270000        1.700000   \n",
            "50%         6.800000          0.260000     0.320000        5.200000   \n",
            "75%         7.300000          0.320000     0.390000        9.900000   \n",
            "max        14.200000          1.100000     1.660000       65.800000   \n",
            "\n",
            "         chlorides  free sulfur dioxide  total sulfur dioxide      density  \\\n",
            "count  4898.000000          4898.000000           4898.000000  4898.000000   \n",
            "mean      0.045772            35.308085            138.360657     0.994027   \n",
            "std       0.021848            17.007137             42.498065     0.002991   \n",
            "min       0.009000             2.000000              9.000000     0.987110   \n",
            "25%       0.036000            23.000000            108.000000     0.991723   \n",
            "50%       0.043000            34.000000            134.000000     0.993740   \n",
            "75%       0.050000            46.000000            167.000000     0.996100   \n",
            "max       0.346000           289.000000            440.000000     1.038980   \n",
            "\n",
            "                pH    sulphates      alcohol  \n",
            "count  4898.000000  4898.000000  4898.000000  \n",
            "mean      3.188267     0.489847    10.514267  \n",
            "std       0.151001     0.114126     1.230621  \n",
            "min       2.720000     0.220000     8.000000  \n",
            "25%       3.090000     0.410000     9.500000  \n",
            "50%       3.180000     0.470000    10.400000  \n",
            "75%       3.280000     0.550000    11.400000  \n",
            "max       3.820000     1.080000    14.200000  \n"
          ]
        }
      ]
    },
    {
      "cell_type": "code",
      "source": [
        "# Converting Categorical features into Numerical features\n",
        "dataset['quality'] = dataset['quality'].map({'Poor':0,'Normal':0,'Excellent':1})\n",
        "print(dataset.info())\n",
        "print(dataset.head())\n"
      ],
      "metadata": {
        "colab": {
          "base_uri": "https://localhost:8080/"
        },
        "id": "IaVHJJFjw7SQ",
        "outputId": "c71103cc-e6e9-490e-ee4d-3547f3258d1e"
      },
      "execution_count": null,
      "outputs": [
        {
          "output_type": "stream",
          "name": "stdout",
          "text": [
            "<class 'pandas.core.frame.DataFrame'>\n",
            "RangeIndex: 4898 entries, 0 to 4897\n",
            "Data columns (total 12 columns):\n",
            " #   Column                Non-Null Count  Dtype  \n",
            "---  ------                --------------  -----  \n",
            " 0   fixed acidity         4898 non-null   float64\n",
            " 1   volatile acidity      4898 non-null   float64\n",
            " 2   citric acid           4898 non-null   float64\n",
            " 3   residual sugar        4898 non-null   float64\n",
            " 4   chlorides             4898 non-null   float64\n",
            " 5   free sulfur dioxide   4898 non-null   float64\n",
            " 6   total sulfur dioxide  4898 non-null   float64\n",
            " 7   density               4898 non-null   float64\n",
            " 8   pH                    4898 non-null   float64\n",
            " 9   sulphates             4898 non-null   float64\n",
            " 10  alcohol               4898 non-null   float64\n",
            " 11  quality               4898 non-null   int64  \n",
            "dtypes: float64(11), int64(1)\n",
            "memory usage: 459.3 KB\n",
            "None\n",
            "   fixed acidity  volatile acidity  citric acid  residual sugar  chlorides  \\\n",
            "0            7.0              0.27         0.36            20.7      0.045   \n",
            "1            6.3              0.30         0.34             1.6      0.049   \n",
            "2            8.1              0.28         0.40             6.9      0.050   \n",
            "3            7.2              0.23         0.32             8.5      0.058   \n",
            "4            7.2              0.23         0.32             8.5      0.058   \n",
            "\n",
            "   free sulfur dioxide  total sulfur dioxide  density    pH  sulphates  \\\n",
            "0                 45.0                 170.0   1.0010  3.00       0.45   \n",
            "1                 14.0                 132.0   0.9940  3.30       0.49   \n",
            "2                 30.0                  97.0   0.9951  3.26       0.44   \n",
            "3                 47.0                 186.0   0.9956  3.19       0.40   \n",
            "4                 47.0                 186.0   0.9956  3.19       0.40   \n",
            "\n",
            "   alcohol  quality  \n",
            "0      8.8        0  \n",
            "1      9.5        0  \n",
            "2     10.1        0  \n",
            "3      9.9        0  \n",
            "4      9.9        0  \n"
          ]
        }
      ]
    },
    {
      "cell_type": "code",
      "source": [
        "# Dividing dataset into label and feature sets\n",
        "\n",
        "X = dataset.drop('quality', axis = 1) # Features\n",
        "Y = dataset['quality'] # Labels\n",
        "print(type(X))\n",
        "print(type(Y))\n",
        "print(X.shape)\n",
        "print(Y.shape)"
      ],
      "metadata": {
        "colab": {
          "base_uri": "https://localhost:8080/"
        },
        "id": "ycWmJxSTH1t0",
        "outputId": "7a6c1ed1-6d4a-4f7d-ffcd-701ccc21dac4"
      },
      "execution_count": null,
      "outputs": [
        {
          "output_type": "stream",
          "name": "stdout",
          "text": [
            "<class 'pandas.core.frame.DataFrame'>\n",
            "<class 'pandas.core.series.Series'>\n",
            "(4898, 11)\n",
            "(4898,)\n"
          ]
        }
      ]
    },
    {
      "cell_type": "code",
      "source": [
        "# Normalizing numerical features so that each feature has mean 0 and variance 1\n",
        "feature_scaler = StandardScaler()\n",
        "X_scaled = feature_scaler.fit_transform(X)"
      ],
      "metadata": {
        "id": "w5bkzmFu6c9c"
      },
      "execution_count": null,
      "outputs": []
    },
    {
      "cell_type": "code",
      "source": [
        "# Implementing Random Forest Classifier\n",
        "# Tuning the random forest parameter 'n_estimators' and implementing cross-validation using Grid Search\n",
        "model = Pipeline([\n",
        "        ('balancing', SMOTE(random_state = 101)),\n",
        "        ('classification', RandomForestClassifier(criterion='entropy', max_features='auto', random_state=1) )\n",
        "    ])\n",
        "grid_param = {'classification__n_estimators': [10,20,30,40,50,100]}\n",
        "\n",
        "gd_sr = GridSearchCV(estimator=model, param_grid=grid_param, scoring='recall', cv=5)\n",
        "gd_sr.fit(X_scaled, Y)\n",
        "\n",
        "best_parameters = gd_sr.best_params_\n",
        "print(best_parameters)\n",
        "\n",
        "best_result = gd_sr.best_score_ # Mean cross-validated score of the best_estimator\n",
        "print(best_result)"
      ],
      "metadata": {
        "colab": {
          "base_uri": "https://localhost:8080/"
        },
        "id": "s7Z1194mX1-Y",
        "outputId": "aeae2ac8-9407-4a7a-8b73-4bb1ec15b5c5"
      },
      "execution_count": null,
      "outputs": [
        {
          "output_type": "stream",
          "name": "stdout",
          "text": [
            "{'classification__n_estimators': 50}\n",
            "0.5047169811320755\n"
          ]
        }
      ]
    },
    {
      "cell_type": "code",
      "source": [
        "\n",
        "# Building random forest using the tuned parameter\n",
        "rfc = RandomForestClassifier(n_estimators=10, criterion='entropy', max_features='auto', random_state=1)\n",
        "rfc.fit(X_scaled,Y)\n",
        "featimp = pd.Series(rfc.feature_importances_, index=list(X)).sort_values(ascending=False)\n",
        "print(featimp)\n",
        "\n",
        "feature_scaler = StandardScaler()\n",
        "X_scaled_ = feature_scaler.fit_transform(X)\n",
        "\n",
        "#Tuning the random forest parameter 'n_estimators' and implementing cross-validation using Grid Search\n",
        "model = Pipeline([\n",
        "        ('balancing', SMOTE(random_state = 101)),\n",
        "        ('classification', RandomForestClassifier(criterion='entropy', max_features='auto', random_state=1) )\n",
        "    ])\n",
        "grid_param = {'classification__n_estimators': [50,100,150,200,250,300]}\n",
        "\n",
        "gd_sr = GridSearchCV(estimator=model, param_grid=grid_param, scoring='precision', cv=5)\n",
        "\n",
        "\n",
        "gd_sr.fit(X_scaled_, Y)\n",
        "\n",
        "best_parameters = gd_sr.best_params_\n",
        "print(best_parameters)\n",
        "\n",
        "best_result = gd_sr.best_score_ # Mean cross-validated score of the best_estimator\n",
        "print(best_result)\n"
      ],
      "metadata": {
        "colab": {
          "base_uri": "https://localhost:8080/"
        },
        "id": "eYHzLgZdNzuc",
        "outputId": "25758b10-3882-4ee5-b380-0c8ae1b7036f"
      },
      "execution_count": null,
      "outputs": [
        {
          "output_type": "stream",
          "name": "stdout",
          "text": [
            "density                 0.144267\n",
            "alcohol                 0.132833\n",
            "pH                      0.090328\n",
            "volatile acidity        0.089577\n",
            "residual sugar          0.087262\n",
            "chlorides               0.080878\n",
            "citric acid             0.080483\n",
            "total sulfur dioxide    0.080451\n",
            "free sulfur dioxide     0.077632\n",
            "sulphates               0.073330\n",
            "fixed acidity           0.062957\n",
            "dtype: float64\n",
            "{'classification__n_estimators': 100}\n",
            "0.5405981710772059\n"
          ]
        }
      ]
    }
  ]
}