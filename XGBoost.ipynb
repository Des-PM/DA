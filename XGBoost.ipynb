{
  "cells": [
    {
      "cell_type": "markdown",
      "metadata": {
        "id": "view-in-github",
        "colab_type": "text"
      },
      "source": [
        "<a href=\"https://colab.research.google.com/github/Des-PM/DA/blob/main/XGBoost.ipynb\" target=\"_parent\"><img src=\"https://colab.research.google.com/assets/colab-badge.svg\" alt=\"Open In Colab\"/></a>"
      ]
    },
    {
      "cell_type": "code",
      "execution_count": 1,
      "metadata": {
        "id": "DJguI482t5OL"
      },
      "outputs": [],
      "source": [
        "import numpy as np\n",
        "import pandas as pd\n",
        "from sklearn.preprocessing import StandardScaler\n",
        "from sklearn.model_selection import GridSearchCV\n",
        "from imblearn.over_sampling import SMOTE  # imblearn library can be installed using pip install imblearn\n",
        "from sklearn.preprocessing import StandardScaler\n",
        "from imblearn.pipeline import Pipeline\n",
        "from sklearn import metrics\n",
        "import seaborn as sns\n",
        "import matplotlib.pyplot as plt\n",
        "import sklearn.datasets as dataz\n",
        "from sklearn import tree\n",
        "from sklearn.tree import DecisionTreeRegressor\n",
        "from sklearn.model_selection import train_test_split\n",
        "from sklearn.metrics import mean_squared_error as MSE\n",
        "%matplotlib inline\n",
        "import warnings\n",
        "warnings.filterwarnings(\"ignore\", category=FutureWarning)\n",
        "\n",
        "from itertools import combinations\n",
        "\n",
        "import matplotlib.pyplot as plt\n",
        "import seaborn as sns\n",
        "from sklearn.model_selection import GridSearchCV\n",
        "from imblearn.over_sampling import SMOTE  # imblearn library can be installed using pip install imblearn\n",
        "from sklearn.ensemble import RandomForestClassifier\n",
        "from imblearn.pipeline import Pipeline\n",
        "import warnings\n",
        "warnings.filterwarnings(\"ignore\", category=FutureWarning)\n",
        "from xgboost import XGBClassifier\n",
        "from sklearn.model_selection import RandomizedSearchCV\n",
        "\n",
        "from sklearn.svm import SVC"
      ]
    },
    {
      "cell_type": "code",
      "execution_count": 2,
      "metadata": {
        "colab": {
          "base_uri": "https://localhost:8080/"
        },
        "id": "ExfrCKYHtmbS",
        "outputId": "094ab2d3-7d23-4610-a5b1-4ae59e692ca2"
      },
      "outputs": [
        {
          "output_type": "stream",
          "name": "stdout",
          "text": [
            "Looking in indexes: https://pypi.org/simple, https://us-python.pkg.dev/colab-wheels/public/simple/\n",
            "Requirement already satisfied: kaggle in /usr/local/lib/python3.8/dist-packages (1.5.12)\n",
            "Requirement already satisfied: tqdm in /usr/local/lib/python3.8/dist-packages (from kaggle) (4.64.1)\n",
            "Requirement already satisfied: requests in /usr/local/lib/python3.8/dist-packages (from kaggle) (2.25.1)\n",
            "Requirement already satisfied: python-dateutil in /usr/local/lib/python3.8/dist-packages (from kaggle) (2.8.2)\n",
            "Requirement already satisfied: urllib3 in /usr/local/lib/python3.8/dist-packages (from kaggle) (1.24.3)\n",
            "Requirement already satisfied: certifi in /usr/local/lib/python3.8/dist-packages (from kaggle) (2022.12.7)\n",
            "Requirement already satisfied: python-slugify in /usr/local/lib/python3.8/dist-packages (from kaggle) (7.0.0)\n",
            "Requirement already satisfied: six>=1.10 in /usr/local/lib/python3.8/dist-packages (from kaggle) (1.15.0)\n",
            "Requirement already satisfied: text-unidecode>=1.3 in /usr/local/lib/python3.8/dist-packages (from python-slugify->kaggle) (1.3)\n",
            "Requirement already satisfied: chardet<5,>=3.0.2 in /usr/local/lib/python3.8/dist-packages (from requests->kaggle) (4.0.0)\n",
            "Requirement already satisfied: idna<3,>=2.5 in /usr/local/lib/python3.8/dist-packages (from requests->kaggle) (2.10)\n"
          ]
        }
      ],
      "source": [
        "!pip install kaggle\n"
      ]
    },
    {
      "cell_type": "code",
      "execution_count": 3,
      "metadata": {
        "colab": {
          "base_uri": "https://localhost:8080/"
        },
        "id": "lS-uYWQvAsqF",
        "outputId": "e9e3b040-f183-4484-bd56-ca1eaeadb114"
      },
      "outputs": [
        {
          "output_type": "stream",
          "name": "stdout",
          "text": [
            "Mounted at /content/drive\n"
          ]
        }
      ],
      "source": [
        "from google.colab import drive\n",
        "drive.mount('/content/drive')"
      ]
    },
    {
      "cell_type": "code",
      "execution_count": 4,
      "metadata": {
        "colab": {
          "base_uri": "https://localhost:8080/"
        },
        "id": "z9cBi3weAzZX",
        "outputId": "7d7fae58-4a2c-44b7-f26e-da66a3fe737c"
      },
      "outputs": [
        {
          "output_type": "stream",
          "name": "stdout",
          "text": [
            "Downloading dataco-smart-supply-chain-for-big-data-analysis.zip to /content\n",
            "\r  0% 0.00/25.7M [00:00<?, ?B/s]\r 51% 13.0M/25.7M [00:00<00:00, 131MB/s]\n",
            "\r100% 25.7M/25.7M [00:00<00:00, 175MB/s]\n",
            "Archive:  /content/dataco-smart-supply-chain-for-big-data-analysis.zip\n",
            "  inflating: DataCoSupplyChainDataset.csv  \n",
            "  inflating: DescriptionDataCoSupplyChain.csv  \n",
            "  inflating: tokenized_access_logs.csv  \n"
          ]
        }
      ],
      "source": [
        "!mkdir ~/.kaggle \n",
        "!cp /content/drive/MyDrive/kaggle.json ~/.kaggle/kaggle.json\n",
        "!chmod 600 ~/.kaggle/kaggle.json\n",
        "! kaggle datasets download shashwatwork/dataco-smart-supply-chain-for-big-data-analysis\n",
        "!unzip /content/dataco-smart-supply-chain-for-big-data-analysis.zip"
      ]
    },
    {
      "cell_type": "code",
      "execution_count": 5,
      "metadata": {
        "id": "9JAhYTtTBPda"
      },
      "outputs": [],
      "source": [
        "df = pd.read_csv('/content/DataCoSupplyChainDataset.csv',encoding='latin-1')"
      ]
    },
    {
      "cell_type": "code",
      "execution_count": 6,
      "metadata": {
        "colab": {
          "base_uri": "https://localhost:8080/"
        },
        "id": "kulcYe1mBgvR",
        "outputId": "b8ba7f49-d135-43c1-aaa9-8b9b96ce60cc"
      },
      "outputs": [
        {
          "output_type": "stream",
          "name": "stdout",
          "text": [
            "Columns with NaN values are: Index(['Customer Lname', 'Customer Zipcode', 'Order Zipcode',\n",
            "       'Product Description'],\n",
            "      dtype='object')\n"
          ]
        }
      ],
      "source": [
        "# check NaN values\n",
        "null_columns = df.columns[df.isna().any()] \n",
        "# printing column names containing NaN\n",
        "print('Columns with NaN values are:' , null_columns)"
      ]
    },
    {
      "cell_type": "code",
      "execution_count": 7,
      "metadata": {
        "colab": {
          "base_uri": "https://localhost:8080/"
        },
        "id": "XfqlMo_aBkIo",
        "outputId": "a7615f06-2a5d-4fde-d59a-7ddeae610d82"
      },
      "outputs": [
        {
          "output_type": "stream",
          "name": "stdout",
          "text": [
            "<class 'pandas.core.frame.DataFrame'>\n",
            "RangeIndex: 180519 entries, 0 to 180518\n",
            "Data columns (total 49 columns):\n",
            " #   Column                         Non-Null Count   Dtype  \n",
            "---  ------                         --------------   -----  \n",
            " 0   Type                           180519 non-null  object \n",
            " 1   Days for shipping (real)       180519 non-null  int64  \n",
            " 2   Days for shipment (scheduled)  180519 non-null  int64  \n",
            " 3   Benefit per order              180519 non-null  float64\n",
            " 4   Sales per customer             180519 non-null  float64\n",
            " 5   Delivery Status                180519 non-null  object \n",
            " 6   Late_delivery_risk             180519 non-null  int64  \n",
            " 7   Category Id                    180519 non-null  int64  \n",
            " 8   Category Name                  180519 non-null  object \n",
            " 9   Customer City                  180519 non-null  object \n",
            " 10  Customer Country               180519 non-null  object \n",
            " 11  Customer Email                 180519 non-null  object \n",
            " 12  Customer Fname                 180519 non-null  object \n",
            " 13  Customer Id                    180519 non-null  int64  \n",
            " 14  Customer Password              180519 non-null  object \n",
            " 15  Customer Segment               180519 non-null  object \n",
            " 16  Customer State                 180519 non-null  object \n",
            " 17  Customer Street                180519 non-null  object \n",
            " 18  Department Id                  180519 non-null  int64  \n",
            " 19  Department Name                180519 non-null  object \n",
            " 20  Latitude                       180519 non-null  float64\n",
            " 21  Longitude                      180519 non-null  float64\n",
            " 22  Market                         180519 non-null  object \n",
            " 23  Order City                     180519 non-null  object \n",
            " 24  Order Country                  180519 non-null  object \n",
            " 25  Order Customer Id              180519 non-null  int64  \n",
            " 26  order date (DateOrders)        180519 non-null  object \n",
            " 27  Order Id                       180519 non-null  int64  \n",
            " 28  Order Item Cardprod Id         180519 non-null  int64  \n",
            " 29  Order Item Discount            180519 non-null  float64\n",
            " 30  Order Item Discount Rate       180519 non-null  float64\n",
            " 31  Order Item Id                  180519 non-null  int64  \n",
            " 32  Order Item Product Price       180519 non-null  float64\n",
            " 33  Order Item Profit Ratio        180519 non-null  float64\n",
            " 34  Order Item Quantity            180519 non-null  int64  \n",
            " 35  Sales                          180519 non-null  float64\n",
            " 36  Order Item Total               180519 non-null  float64\n",
            " 37  Order Profit Per Order         180519 non-null  float64\n",
            " 38  Order Region                   180519 non-null  object \n",
            " 39  Order State                    180519 non-null  object \n",
            " 40  Order Status                   180519 non-null  object \n",
            " 41  Product Card Id                180519 non-null  int64  \n",
            " 42  Product Category Id            180519 non-null  int64  \n",
            " 43  Product Image                  180519 non-null  object \n",
            " 44  Product Name                   180519 non-null  object \n",
            " 45  Product Price                  180519 non-null  float64\n",
            " 46  Product Status                 180519 non-null  int64  \n",
            " 47  shipping date (DateOrders)     180519 non-null  object \n",
            " 48  Shipping Mode                  180519 non-null  object \n",
            "dtypes: float64(12), int64(14), object(23)\n",
            "memory usage: 67.5+ MB\n",
            "None\n"
          ]
        }
      ],
      "source": [
        "# removing the coumns having NaN values\n",
        "df = df.drop(columns = null_columns, axis=1)\n",
        "print(df.info())"
      ]
    },
    {
      "cell_type": "code",
      "execution_count": 8,
      "metadata": {
        "id": "oRIwiVRPBw-z"
      },
      "outputs": [],
      "source": [
        "# below are the columns in the data which are irrelevant. It contains no information \n",
        "irrelevant_info_columns = [\"Customer Email\", \"Customer Fname\", \n",
        "                          \"Customer Password\", \"Department Name\", \"Product Image\", \"Product Status\", \"Customer Street\", \"shipping date (DateOrders)\", \"order date (DateOrders)\"]"
      ]
    },
    {
      "cell_type": "code",
      "execution_count": 9,
      "metadata": {
        "colab": {
          "base_uri": "https://localhost:8080/"
        },
        "id": "PW6b7hrfCBWh",
        "outputId": "7339d3c8-907b-457b-fc6b-9b60ae991c37"
      },
      "outputs": [
        {
          "output_type": "stream",
          "name": "stdout",
          "text": [
            "<class 'pandas.core.frame.DataFrame'>\n",
            "RangeIndex: 180519 entries, 0 to 180518\n",
            "Data columns (total 40 columns):\n",
            " #   Column                         Non-Null Count   Dtype  \n",
            "---  ------                         --------------   -----  \n",
            " 0   Type                           180519 non-null  object \n",
            " 1   Days for shipping (real)       180519 non-null  int64  \n",
            " 2   Days for shipment (scheduled)  180519 non-null  int64  \n",
            " 3   Benefit per order              180519 non-null  float64\n",
            " 4   Sales per customer             180519 non-null  float64\n",
            " 5   Delivery Status                180519 non-null  object \n",
            " 6   Late_delivery_risk             180519 non-null  int64  \n",
            " 7   Category Id                    180519 non-null  int64  \n",
            " 8   Category Name                  180519 non-null  object \n",
            " 9   Customer City                  180519 non-null  object \n",
            " 10  Customer Country               180519 non-null  object \n",
            " 11  Customer Id                    180519 non-null  int64  \n",
            " 12  Customer Segment               180519 non-null  object \n",
            " 13  Customer State                 180519 non-null  object \n",
            " 14  Department Id                  180519 non-null  int64  \n",
            " 15  Latitude                       180519 non-null  float64\n",
            " 16  Longitude                      180519 non-null  float64\n",
            " 17  Market                         180519 non-null  object \n",
            " 18  Order City                     180519 non-null  object \n",
            " 19  Order Country                  180519 non-null  object \n",
            " 20  Order Customer Id              180519 non-null  int64  \n",
            " 21  Order Id                       180519 non-null  int64  \n",
            " 22  Order Item Cardprod Id         180519 non-null  int64  \n",
            " 23  Order Item Discount            180519 non-null  float64\n",
            " 24  Order Item Discount Rate       180519 non-null  float64\n",
            " 25  Order Item Id                  180519 non-null  int64  \n",
            " 26  Order Item Product Price       180519 non-null  float64\n",
            " 27  Order Item Profit Ratio        180519 non-null  float64\n",
            " 28  Order Item Quantity            180519 non-null  int64  \n",
            " 29  Sales                          180519 non-null  float64\n",
            " 30  Order Item Total               180519 non-null  float64\n",
            " 31  Order Profit Per Order         180519 non-null  float64\n",
            " 32  Order Region                   180519 non-null  object \n",
            " 33  Order State                    180519 non-null  object \n",
            " 34  Order Status                   180519 non-null  object \n",
            " 35  Product Card Id                180519 non-null  int64  \n",
            " 36  Product Category Id            180519 non-null  int64  \n",
            " 37  Product Name                   180519 non-null  object \n",
            " 38  Product Price                  180519 non-null  float64\n",
            " 39  Shipping Mode                  180519 non-null  object \n",
            "dtypes: float64(12), int64(13), object(15)\n",
            "memory usage: 55.1+ MB\n",
            "None\n"
          ]
        }
      ],
      "source": [
        "df = df.drop(columns = irrelevant_info_columns, axis=1)\n",
        "print(df.info())"
      ]
    },
    {
      "cell_type": "code",
      "execution_count": 10,
      "metadata": {
        "colab": {
          "base_uri": "https://localhost:8080/"
        },
        "id": "GO7VZIrNGHQy",
        "outputId": "3d395a4d-0bbf-4eeb-ceb2-43c32c7ad909"
      },
      "outputs": [
        {
          "output_type": "stream",
          "name": "stdout",
          "text": [
            "Benefit per order and Order Profit Per Order are the same\n",
            "Sales per customer and Order Item Total are the same\n",
            "Category Id and Product Category Id are the same\n",
            "Customer Id and Order Customer Id are the same\n",
            "Order Item Cardprod Id and Product Card Id are the same\n",
            "Order Item Product Price and Product Price are the same\n"
          ]
        }
      ],
      "source": [
        "def check_duplicate_columns(dataframe_test):\n",
        "    columns_names = []\n",
        "    \n",
        "    for ii in list(combinations(dataframe_test.columns, 2)):\n",
        "        if np.all(dataframe_test[ii[0]] == dataframe_test[ii[1]]):\n",
        "            columns_names.append(ii)\n",
        "            print(\"{} and {} are the same\".format(*ii))\n",
        "    \n",
        "    return columns_names\n",
        "\n",
        "                \n",
        "redundancies = check_duplicate_columns(df)"
      ]
    },
    {
      "cell_type": "code",
      "execution_count": 11,
      "metadata": {
        "colab": {
          "base_uri": "https://localhost:8080/"
        },
        "id": "hDS7Ha5cGJkl",
        "outputId": "b76d3b65-441a-49d4-9946-abe31af64501"
      },
      "outputs": [
        {
          "output_type": "stream",
          "name": "stdout",
          "text": [
            "<class 'pandas.core.frame.DataFrame'>\n",
            "RangeIndex: 180519 entries, 0 to 180518\n",
            "Data columns (total 34 columns):\n",
            " #   Column                         Non-Null Count   Dtype  \n",
            "---  ------                         --------------   -----  \n",
            " 0   Type                           180519 non-null  object \n",
            " 1   Days for shipping (real)       180519 non-null  int64  \n",
            " 2   Days for shipment (scheduled)  180519 non-null  int64  \n",
            " 3   Benefit per order              180519 non-null  float64\n",
            " 4   Sales per customer             180519 non-null  float64\n",
            " 5   Delivery Status                180519 non-null  object \n",
            " 6   Late_delivery_risk             180519 non-null  int64  \n",
            " 7   Category Id                    180519 non-null  int64  \n",
            " 8   Category Name                  180519 non-null  object \n",
            " 9   Customer City                  180519 non-null  object \n",
            " 10  Customer Country               180519 non-null  object \n",
            " 11  Customer Id                    180519 non-null  int64  \n",
            " 12  Customer Segment               180519 non-null  object \n",
            " 13  Customer State                 180519 non-null  object \n",
            " 14  Department Id                  180519 non-null  int64  \n",
            " 15  Latitude                       180519 non-null  float64\n",
            " 16  Longitude                      180519 non-null  float64\n",
            " 17  Market                         180519 non-null  object \n",
            " 18  Order City                     180519 non-null  object \n",
            " 19  Order Country                  180519 non-null  object \n",
            " 20  Order Id                       180519 non-null  int64  \n",
            " 21  Order Item Discount            180519 non-null  float64\n",
            " 22  Order Item Discount Rate       180519 non-null  float64\n",
            " 23  Order Item Id                  180519 non-null  int64  \n",
            " 24  Order Item Profit Ratio        180519 non-null  float64\n",
            " 25  Order Item Quantity            180519 non-null  int64  \n",
            " 26  Sales                          180519 non-null  float64\n",
            " 27  Order Region                   180519 non-null  object \n",
            " 28  Order State                    180519 non-null  object \n",
            " 29  Order Status                   180519 non-null  object \n",
            " 30  Product Card Id                180519 non-null  int64  \n",
            " 31  Product Name                   180519 non-null  object \n",
            " 32  Product Price                  180519 non-null  float64\n",
            " 33  Shipping Mode                  180519 non-null  object \n",
            "dtypes: float64(9), int64(10), object(15)\n",
            "memory usage: 46.8+ MB\n",
            "None\n"
          ]
        }
      ],
      "source": [
        "duplicate_cols_to_remove = [\"Order Profit Per Order\", \"Order Item Total\", \"Product Category Id\", \n",
        "                            \"Order Customer Id\", \"Order Item Cardprod Id\", \"Order Item Product Price\"]\n",
        "df = df.drop(columns = duplicate_cols_to_remove, axis=1)\n",
        "print(df.info())"
      ]
    },
    {
      "cell_type": "code",
      "execution_count": 12,
      "metadata": {
        "colab": {
          "base_uri": "https://localhost:8080/",
          "height": 925
        },
        "id": "5Ldwlf7OCZfu",
        "outputId": "32c1b7c9-0ad5-4d44-dc61-54c55d469408"
      },
      "outputs": [
        {
          "output_type": "stream",
          "name": "stdout",
          "text": [
            "                     0\n",
            "CANCELED          3692\n",
            "CLOSED           19616\n",
            "COMPLETE         59491\n",
            "ON_HOLD           9804\n",
            "PAYMENT_REVIEW    1893\n",
            "PENDING          20227\n",
            "PENDING_PAYMENT  39832\n",
            "PROCESSING       21902\n",
            "SUSPECTED_FRAUD   4062\n",
            "['CANCELED' 'CLOSED' 'COMPLETE' 'ON_HOLD' 'PAYMENT_REVIEW' 'PENDING'\n",
            " 'PENDING_PAYMENT' 'PROCESSING' 'SUSPECTED_FRAUD'] [ 3692 19616 59491  9804  1893 20227 39832 21902  4062]\n"
          ]
        },
        {
          "output_type": "execute_result",
          "data": {
            "text/plain": [
              "([<matplotlib.patches.Wedge at 0x7f3b8e96b460>,\n",
              "  <matplotlib.patches.Wedge at 0x7f3b8e96b910>,\n",
              "  <matplotlib.patches.Wedge at 0x7f3b8e96bfa0>,\n",
              "  <matplotlib.patches.Wedge at 0x7f3b8e96c6a0>,\n",
              "  <matplotlib.patches.Wedge at 0x7f3b8e96cd30>,\n",
              "  <matplotlib.patches.Wedge at 0x7f3b8df18400>,\n",
              "  <matplotlib.patches.Wedge at 0x7f3b8df18a90>,\n",
              "  <matplotlib.patches.Wedge at 0x7f3b8df14160>,\n",
              "  <matplotlib.patches.Wedge at 0x7f3b8df147f0>],\n",
              " [Text(1.0977301846479284, 0.07062890139896982, 'CANCELED'),\n",
              "  Text(0.9807828709815739, 0.49806120104776447, 'CLOSED'),\n",
              "  Text(-0.29954403608977603, 1.0584296719400148, 'COMPLETE'),\n",
              "  Text(-1.095641260962441, 0.09782753843694757, 'ON_HOLD'),\n",
              "  Text(-1.0927956736438185, -0.12568856616794197, 'PAYMENT_REVIEW'),\n",
              "  Text(-0.9656205515140237, -0.5268557207564067, 'PENDING'),\n",
              "  Text(-0.02872151174594294, -1.0996249700525302, 'PENDING_PAYMENT'),\n",
              "  Text(0.9532064688139192, -0.5489967466308876, 'PROCESSING'),\n",
              "  Text(1.097252635755152, -0.0776959029059588, 'SUSPECTED_FRAUD')],\n",
              " [Text(0.5987619188988699, 0.03852485530852899, '2.05%'),\n",
              "  Text(0.5349724750808584, 0.2716697460260533, '10.87%'),\n",
              "  Text(-0.1633876560489687, 0.5773252756036443, '32.96%'),\n",
              "  Text(-0.5976225059795132, 0.0533604755110623, '5.43%'),\n",
              "  Text(-0.5960703674420827, -0.06855739972796834, '1.05%'),\n",
              "  Text(-0.5267021190076492, -0.28737584768531277, '11.20%'),\n",
              "  Text(-0.015666279134150692, -0.599795438210471, '22.07%'),\n",
              "  Text(0.5199308011712286, -0.29945277088957506, '12.13%'),\n",
              "  Text(0.5985014376846283, -0.04237958340325026, '2.25%')])"
            ]
          },
          "metadata": {},
          "execution_count": 12
        },
        {
          "output_type": "display_data",
          "data": {
            "text/plain": [
              "<Figure size 432x288 with 1 Axes>"
            ],
            "image/png": "[encoded data removed]"
          },
          "metadata": {}
        }
      ],
      "source": [
        "subj_labels, subj_counts = np.unique(df['Order Status'], return_counts = True)\n",
        "print(pd.DataFrame(subj_counts, subj_labels))\n",
        "\n",
        "print(subj_labels, subj_counts)\n",
        "\n",
        "plt.pie(subj_counts, labels = subj_labels, autopct = '%.2f%%')"
      ]
    },
    {
      "cell_type": "code",
      "execution_count": 13,
      "metadata": {
        "id": "IRXQ7uoIFwUb"
      },
      "outputs": [],
      "source": [
        "from sklearn import preprocessing\n",
        "le = preprocessing.LabelEncoder()\n",
        "df['Delivery Status'] = le.fit_transform(df['Delivery Status'])\n",
        "df['Category Name'] = le.fit_transform(df['Category Name'])\n",
        "df['Customer City'] = le.fit_transform(df['Customer City'])\n",
        "df['Customer Country'] = le.fit_transform(df['Customer Country'])\n",
        "df['Customer Segment'] = le.fit_transform(df['Customer Segment'])\n",
        "df['Customer State'] = le.fit_transform(df['Customer State'])\n",
        "df['Market'] = le.fit_transform(df['Market'])\n",
        "df['Order City'] = le.fit_transform(df['Order City'])\n",
        "df['Order Country'] = le.fit_transform(df['Order Country'])\n",
        "df['Order Region'] = le.fit_transform(df['Order Region'])\n",
        "df['Order State'] = le.fit_transform(df['Order State'])\n",
        "df['Product Name'] = le.fit_transform(df['Product Name'])\n",
        "df['Shipping Mode'] = le.fit_transform(df['Shipping Mode'])\n",
        "df['Type'] = le.fit_transform(df['Type'])"
      ]
    },
    {
      "cell_type": "code",
      "execution_count": 14,
      "metadata": {
        "colab": {
          "base_uri": "https://localhost:8080/",
          "height": 283
        },
        "id": "k_hrCRaNGsVk",
        "outputId": "d3223048-9553-4f43-e971-641c0ccb58b7"
      },
      "outputs": [
        {
          "output_type": "stream",
          "name": "stdout",
          "text": [
            "[0 1] [176457   4062]\n"
          ]
        },
        {
          "output_type": "execute_result",
          "data": {
            "text/plain": [
              "<matplotlib.legend.Legend at 0x7f3b8e7f5340>"
            ]
          },
          "metadata": {},
          "execution_count": 14
        },
        {
          "output_type": "display_data",
          "data": {
            "text/plain": [
              "<Figure size 432x288 with 1 Axes>"
            ],
            "image/png": "[encoded data removed]"
          },
          "metadata": {}
        }
      ],
      "source": [
        "df['Order Status'] = df['Order Status'].replace(['CANCELED', 'CLOSED', 'COMPLETE', 'ON_HOLD', 'PAYMENT_REVIEW', 'PENDING',\n",
        " 'PENDING_PAYMENT', 'PROCESSING', 'SUSPECTED_FRAUD'],\n",
        "                                        [0, 0, 0, 0, 0, 0, 0, 0, 1])\n",
        "new_subj_labels, new_subj_counts = np.unique(df['Order Status'], return_counts = True)\n",
        "print(new_subj_labels, new_subj_counts)\n",
        "myexplode = [0.05, 0.05]\n",
        "plt.pie(new_subj_counts, labels = new_subj_labels, explode = myexplode, autopct = '%.2f%%')\n",
        "plt.legend(['0: Not Fraud', '1: Suspected Fraud'])"
      ]
    },
    {
      "cell_type": "code",
      "execution_count": 15,
      "metadata": {
        "colab": {
          "base_uri": "https://localhost:8080/"
        },
        "id": "Zv3L-3reG0tl",
        "outputId": "0937809b-6eb8-4045-987f-af7f3e30396c"
      },
      "outputs": [
        {
          "output_type": "stream",
          "name": "stdout",
          "text": [
            "<class 'pandas.core.frame.DataFrame'>\n",
            "RangeIndex: 180519 entries, 0 to 180518\n",
            "Data columns (total 33 columns):\n",
            " #   Column                         Non-Null Count   Dtype  \n",
            "---  ------                         --------------   -----  \n",
            " 0   Type                           180519 non-null  int64  \n",
            " 1   Days for shipping (real)       180519 non-null  int64  \n",
            " 2   Days for shipment (scheduled)  180519 non-null  int64  \n",
            " 3   Benefit per order              180519 non-null  float64\n",
            " 4   Sales per customer             180519 non-null  float64\n",
            " 5   Delivery Status                180519 non-null  int64  \n",
            " 6   Late_delivery_risk             180519 non-null  int64  \n",
            " 7   Category Id                    180519 non-null  int64  \n",
            " 8   Category Name                  180519 non-null  int64  \n",
            " 9   Customer City                  180519 non-null  int64  \n",
            " 10  Customer Country               180519 non-null  int64  \n",
            " 11  Customer Id                    180519 non-null  int64  \n",
            " 12  Customer Segment               180519 non-null  int64  \n",
            " 13  Customer State                 180519 non-null  int64  \n",
            " 14  Department Id                  180519 non-null  int64  \n",
            " 15  Latitude                       180519 non-null  float64\n",
            " 16  Longitude                      180519 non-null  float64\n",
            " 17  Market                         180519 non-null  int64  \n",
            " 18  Order City                     180519 non-null  int64  \n",
            " 19  Order Country                  180519 non-null  int64  \n",
            " 20  Order Id                       180519 non-null  int64  \n",
            " 21  Order Item Discount            180519 non-null  float64\n",
            " 22  Order Item Discount Rate       180519 non-null  float64\n",
            " 23  Order Item Id                  180519 non-null  int64  \n",
            " 24  Order Item Profit Ratio        180519 non-null  float64\n",
            " 25  Order Item Quantity            180519 non-null  int64  \n",
            " 26  Sales                          180519 non-null  float64\n",
            " 27  Order Region                   180519 non-null  int64  \n",
            " 28  Order State                    180519 non-null  int64  \n",
            " 29  Product Card Id                180519 non-null  int64  \n",
            " 30  Product Name                   180519 non-null  int64  \n",
            " 31  Product Price                  180519 non-null  float64\n",
            " 32  Shipping Mode                  180519 non-null  int64  \n",
            "dtypes: float64(9), int64(24)\n",
            "memory usage: 45.4 MB\n"
          ]
        }
      ],
      "source": [
        "X = df.drop('Order Status', axis=1)\n",
        "Y = df['Order Status']\n",
        "X.info()\n"
      ]
    },
    {
      "cell_type": "code",
      "execution_count": 16,
      "metadata": {
        "id": "jotUT8Hbv5Oa"
      },
      "outputs": [],
      "source": [
        "X_train,X_test,Y_train,Y_test = train_test_split(X,Y, test_size =0.3, random_state = 7)\n"
      ]
    },
    {
      "cell_type": "code",
      "execution_count": 17,
      "metadata": {
        "id": "8gYQ70hECiOc"
      },
      "outputs": [],
      "source": [
        "# Normalizing numerical features so that each feature has mean 0 and variance 1\n",
        "from sklearn.preprocessing import StandardScaler\n",
        "\n",
        "scaler = StandardScaler()\n",
        "\n",
        "X_train = scaler.fit_transform(X_train)\n",
        "X_test = scaler.transform(X_test)\n"
      ]
    },
    {
      "cell_type": "markdown",
      "metadata": {
        "id": "H0-Lw8sAyRYN"
      },
      "source": [
        "###RFC BASELINE MODEL"
      ]
    },
    {
      "cell_type": "code",
      "source": [
        "from sklearn.ensemble import RandomForestClassifier\n",
        "\n",
        "# Create an instance of the decision tree classifier\n",
        "clf_rfc = RandomForestClassifier()\n",
        "\n",
        "# Train the classifier on the training data\n",
        "clf_rfc.fit(X_train, Y_train)\n",
        "\n",
        "# Make predictions on the test set\n",
        "y_predict_rfc = clf_rfc.predict(X_test)\n",
        "\n",
        "# Evaluate the performance of the model\n",
        "recall = recall_score(Y_test, y_predict_rfc)\n",
        "print(\"Recall of the RFC classifier: \", recall )\n",
        "\n",
        "# Print the model parameters\n",
        "print(\"Model parameters: \", clf_rfc.get_params())\n"
      ],
      "metadata": {
        "colab": {
          "base_uri": "https://localhost:8080/"
        },
        "id": "FtNmw9YXaFdn",
        "outputId": "532369f6-80fc-4653-a055-882f95175c60"
      },
      "execution_count": 27,
      "outputs": [
        {
          "output_type": "stream",
          "name": "stdout",
          "text": [
            "Recall of the RFC classifier:  0.7958847736625514\n",
            "Model parameters:  {'bootstrap': True, 'ccp_alpha': 0.0, 'class_weight': None, 'criterion': 'gini', 'max_depth': None, 'max_features': 'auto', 'max_leaf_nodes': None, 'max_samples': None, 'min_impurity_decrease': 0.0, 'min_samples_leaf': 1, 'min_samples_split': 2, 'min_weight_fraction_leaf': 0.0, 'n_estimators': 100, 'n_jobs': None, 'oob_score': False, 'random_state': None, 'verbose': 0, 'warm_start': False}\n"
          ]
        }
      ]
    },
    {
      "cell_type": "code",
      "execution_count": null,
      "metadata": {
        "id": "pJQz_vHVwa9t"
      },
      "outputs": [],
      "source": [
        "# Implementing Random Forest Regression\n",
        "# Tuning the random forest parameter 'n_estimators' and implementing cross-validation using Grid Search\n",
        "rfm = RandomForestClassifier(criterion='entropy', max_features='auto', random_state=1)\n",
        "grid_param = {'bootstrap': [True, False],\n",
        "                                        'max_depth': [10, 20, 30, 40, 50, 60,\n",
        "                                                      70, 80, 90, 100, 110,\n",
        "                                                      120],\n",
        "                                        'max_features': ['auto'],\n",
        "                                        'min_samples_leaf': [1, 3, 4],\n",
        "                                        'min_samples_split': [2, 6, 10],\n",
        "                                        'n_estimators': [50, 100, 150, 250, 300,\n",
        "                                                         350, 400, 450]},\n",
        "gd_sr = GridSearchCV(estimator=rfm, param_grid=grid_param, scoring='recall', cv=5)\n",
        "gd_sr.fit(X_train, Y_train)\n",
        "best_parameters = gd_sr.best_params_\n",
        "print(\"Optimal parameters:\", best_parameters)\n",
        "best_result = gd_sr.best_score_ # Mean cross-validated score of the best_estimator\\n\",\n",
        "print(\"Best Result:\", best_result)\n",
        "rfm.fit(X_train,Y_train)\n",
        "featimp = pd.Series(rfm.feature_importances_, index=list(X)).sort_values(ascending=False)\n",
        "print(featimp)"
      ]
    },
    {
      "cell_type": "markdown",
      "metadata": {
        "id": "wZxbxL6L6gkM"
      },
      "source": [
        "###Hypereparameter Tuning"
      ]
    },
    {
      "cell_type": "code",
      "execution_count": null,
      "metadata": {
        "id": "c7VVasve6lYS"
      },
      "outputs": [],
      "source": [
        "\n",
        "n_estimators = [50,100,150,250,300,350,400,450] # number of trees in the random forest\n",
        "max_features = ['auto'] # number of features in consideration at every split\n",
        "max_depth = [int(x) for x in np.linspace(10, 120, num = 12)] # maximum number of levels allowed in each decision tree\n",
        "min_samples_split = [2, 6, 10] # minimum sample number to split a node\n",
        "min_samples_leaf = [1, 3, 4] # minimum sample number that can be stored in a leaf node\n",
        "bootstrap = [True, False] # method used to sample data points\n",
        "\n",
        "random_grid = {'n_estimators': n_estimators,\n",
        "\n",
        "'max_features': max_features,\n",
        "\n",
        "'max_depth': max_depth,\n",
        "'min_samples_split': min_samples_split,\n",
        "\n",
        "'min_samples_leaf': min_samples_leaf,\n",
        "\n",
        "'bootstrap': bootstrap}"
      ]
    },
    {
      "cell_type": "code",
      "execution_count": null,
      "metadata": {
        "colab": {
          "base_uri": "https://localhost:8080/"
        },
        "id": "AL8Cmity7qEk",
        "outputId": "47e43134-4f5f-4c23-f795-8ada6e41e9b6"
      },
      "outputs": [
        {
          "name": "stdout",
          "output_type": "stream",
          "text": [
            "Fitting 5 folds for each of 100 candidates, totalling 500 fits\n"
          ]
        },
        {
          "data": {
            "text/plain": [
              "RandomizedSearchCV(cv=5, estimator=RandomForestClassifier(), n_iter=100,\n",
              "                   n_jobs=-1,\n",
              "                   param_distributions={'bootstrap': [True, False],\n",
              "                                        'max_depth': [10, 20, 30, 40, 50, 60,\n",
              "                                                      70, 80, 90, 100, 110,\n",
              "                                                      120],\n",
              "                                        'max_features': ['auto'],\n",
              "                                        'min_samples_leaf': [1, 3, 4],\n",
              "                                        'min_samples_split': [2, 6, 10],\n",
              "                                        'n_estimators': [50, 100, 150, 250, 300,\n",
              "                                                         350, 400, 450]},\n",
              "                   random_state=35, scoring='recall', verbose=2)"
            ]
          },
          "execution_count": 20,
          "metadata": {},
          "output_type": "execute_result"
        }
      ],
      "source": [
        "rfm2 = RandomForestClassifier()\n",
        "from sklearn.model_selection import RandomizedSearchCV\n",
        "rf_random = RandomizedSearchCV(estimator = rfm2,param_distributions = random_grid,\n",
        "               n_iter = 100, cv = 5, verbose=2,scoring='recall', random_state=35, n_jobs = -1)\n",
        "rf_random.fit(X_train, Y_train)"
      ]
    },
    {
      "cell_type": "code",
      "execution_count": null,
      "metadata": {
        "colab": {
          "base_uri": "https://localhost:8080/"
        },
        "id": "GSgEut538AAb",
        "outputId": "5f00eb4c-7093-4ce8-b8e6-20e9f8366b4a"
      },
      "outputs": [
        {
          "name": "stdout",
          "output_type": "stream",
          "text": [
            "Random grid:  {'n_estimators': [50, 100, 150, 250, 300, 350, 400, 450], 'max_features': ['auto'], 'max_depth': [10, 20, 30, 40, 50, 60, 70, 80, 90, 100, 110, 120], 'min_samples_split': [2, 6, 10], 'min_samples_leaf': [1, 3, 4], 'bootstrap': [True, False]} \n",
            "\n",
            "Best Parameters:  {'n_estimators': 350, 'min_samples_split': 2, 'min_samples_leaf': 1, 'max_features': 'auto', 'max_depth': 120, 'bootstrap': False}  \n",
            "\n"
          ]
        }
      ],
      "source": [
        "print ('Random grid: ', random_grid, '\\n')\n",
        "# print the best parameters\n",
        "print ('Best Parameters: ', rf_random.best_params_, ' \\n')"
      ]
    },
    {
      "cell_type": "code",
      "execution_count": null,
      "metadata": {
        "colab": {
          "base_uri": "https://localhost:8080/"
        },
        "id": "F5l4AKKR8A5-",
        "outputId": "5b51f04b-9327-48e9-c710-1306dd181d7f"
      },
      "outputs": [
        {
          "name": "stdout",
          "output_type": "stream",
          "text": [
            "Best score: 0.8507279622606603\n"
          ]
        }
      ],
      "source": [
        "best_result = rf_random.best_score_ # Mean cross-validated score of the best_estimator\\n\",\n",
        "print(\"Best score:\", best_result)"
      ]
    },
    {
      "cell_type": "code",
      "execution_count": null,
      "metadata": {
        "colab": {
          "base_uri": "https://localhost:8080/"
        },
        "id": "CDEulnn58QX4",
        "outputId": "ab6a1f1a-a120-4c62-a804-1591116923fa"
      },
      "outputs": [
        {
          "data": {
            "text/plain": [
              "RandomForestClassifier(max_depth=70, n_estimators=350)"
            ]
          },
          "execution_count": 23,
          "metadata": {},
          "output_type": "execute_result"
        }
      ],
      "source": [
        "#Using the best parameter.\n",
        "randmf = RandomForestClassifier(n_estimators = 350, min_samples_split = 2, min_samples_leaf= 1, max_features = 'auto', max_depth= 70, bootstrap=True) \n",
        "randmf.fit( X_train, Y_train) "
      ]
    },
    {
      "cell_type": "markdown",
      "metadata": {
        "id": "YeD5bQsp5xSf"
      },
      "source": [
        "###With SMOTE"
      ]
    },
    {
      "cell_type": "code",
      "execution_count": null,
      "metadata": {
        "colab": {
          "base_uri": "https://localhost:8080/"
        },
        "id": "LpVUhTJexU2L",
        "outputId": "f5f1c4cd-1b0a-45e5-e7e0-ab5a6924026e"
      },
      "outputs": [
        {
          "name": "stdout",
          "output_type": "stream",
          "text": [
            "{'classification__n_estimators': 300}\n",
            "0.6789861790243519\n",
            "Delivery Status                  0.417047\n",
            "Type                             0.277543\n",
            "Late_delivery_risk               0.133121\n",
            "Days for shipping (real)         0.035017\n",
            "Customer Segment                 0.012106\n",
            "Shipping Mode                    0.011144\n",
            "Order Item Profit Ratio          0.010054\n",
            "Days for shipment (scheduled)    0.008393\n",
            "Order Item Discount Rate         0.007441\n",
            "Order Item Quantity              0.005986\n",
            "Order Item Discount              0.005730\n",
            "Customer Id                      0.005588\n",
            "Latitude                         0.004761\n",
            "Order City                       0.004647\n",
            "Order Country                    0.004605\n",
            "Order State                      0.004590\n",
            "Longitude                        0.004444\n",
            "Order Item Id                    0.004274\n",
            "Order Id                         0.004172\n",
            "Order Region                     0.004102\n",
            "Customer City                    0.003779\n",
            "Customer State                   0.003613\n",
            "Category Id                      0.003150\n",
            "Sales                            0.002979\n",
            "Market                           0.002937\n",
            "Sales per customer               0.002911\n",
            "Department Id                    0.002706\n",
            "Benefit per order                0.002636\n",
            "Product Card Id                  0.002627\n",
            "Category Name                    0.002587\n",
            "Product Price                    0.002564\n",
            "Product Name                     0.002286\n",
            "Customer Country                 0.000460\n",
            "dtype: float64\n"
          ]
        }
      ],
      "source": [
        "# Implementing Random Forest Classifier\n",
        "# Tuning the random forest parameter 'n_estimators' and implementing cross-validation using Grid Search\n",
        "model = Pipeline([\n",
        "        ('balancing', SMOTE(random_state = 101)),\n",
        "        ('classification', RandomForestClassifier(criterion='entropy', max_features='auto', random_state=1) )\n",
        "    ])\n",
        "grid_param = {'classification__n_estimators': [10,20,30,40,50,100,150,200,300]}\n",
        "\n",
        "gd_sr = GridSearchCV(estimator=model, param_grid=grid_param, scoring='recall', cv=5)\n",
        "\n",
        "\n",
        "\n",
        "gd_sr.fit(X_train, Y_train)\n",
        "\n",
        "best_parameters = gd_sr.best_params_\n",
        "print(best_parameters)\n",
        "\n",
        "best_result = gd_sr.best_score_ # Mean cross-validated score of the best_estimator\n",
        "print(best_result)\n",
        "featimp = pd.Series(gd_sr.best_estimator_.named_steps[\"classification\"].feature_importances_, index=list(X)).sort_values(ascending=False) # Getting feature importances list for the best model\n",
        "print(featimp)"
      ]
    },
    {
      "cell_type": "markdown",
      "source": [
        "\n",
        "*   RFC Baseline model: 0.7958847736625514\n",
        "*   RFC Hyperparameter tuned model: 0.8507279622606603\n",
        "*   RFC SMOTE model: 0.6789861790243519\n",
        "\n",
        "\n",
        "\n",
        "\n",
        "\n"
      ],
      "metadata": {
        "id": "fyTESX3Yg4DA"
      }
    },
    {
      "cell_type": "markdown",
      "source": [
        "##ADA Boost"
      ],
      "metadata": {
        "id": "01tlrBcHz_HY"
      }
    },
    {
      "cell_type": "markdown",
      "source": [
        "Ada Boost Baseline model"
      ],
      "metadata": {
        "id": "yZ9oUrz90CRu"
      }
    },
    {
      "cell_type": "code",
      "source": [
        "from sklearn.ensemble import AdaBoostClassifier\n",
        "from sklearn.metrics import recall_score\n",
        "from sklearn.datasets import make_classification\n",
        "from sklearn.model_selection import train_test_split\n",
        "\n",
        "# Initialize the AdaBoost classifier\n",
        "clf_ada = AdaBoostClassifier()\n",
        "\n",
        "# Fit the classifier on the training data\n",
        "clf_ada.fit(X_train, Y_train)\n",
        "\n",
        "# Make predictions on the test data\n",
        "y_pred = clf_ada.predict(X_test)\n",
        "\n",
        "# Compute the recall score\n",
        "recall = recall_score(Y_test, y_pred)\n",
        "\n",
        "print(\"Recall of the ADA classifier:\", recall)\n",
        "\n",
        "# Print the model parameters\n",
        "print(\"Model parameters: \", clf_ada.get_params())\n"
      ],
      "metadata": {
        "id": "mqXcBhLS0GKW"
      },
      "execution_count": null,
      "outputs": []
    },
    {
      "cell_type": "markdown",
      "source": [
        "Ada Boost Hyperparameter tuning"
      ],
      "metadata": {
        "id": "gp6dHYoQmY78"
      }
    },
    {
      "cell_type": "code",
      "source": [
        "from sklearn.ensemble import AdaBoostClassifier\n",
        "from sklearn.metrics import recall_score, make_scorer\n",
        "from sklearn.model_selection import GridSearchCV\n",
        "\n",
        "# Define the AdaBoost classifier\n",
        "ada = AdaBoostClassifier()\n",
        "\n",
        "# Define the parameters for the GridSearchCV\n",
        "parameters = {'n_estimators': [50, 100, 150], 'learning_rate': [0.1, 0.5, 1]}\n",
        "\n",
        "# Define the recall scoring method\n",
        "recall_scorer = make_scorer(recall_score)\n",
        "\n",
        "# Perform the GridSearchCV\n",
        "grid_search = GridSearchCV(ada, parameters, scoring=recall_scorer)\n",
        "grid_search.fit(X_train, Y_train)\n",
        "\n",
        "# Print the best parameters and the best recall score\n",
        "print(\"Best parameters: \", grid_search.best_params_)\n",
        "print(\"Best recall score: \", grid_search.best_score_)"
      ],
      "metadata": {
        "colab": {
          "base_uri": "https://localhost:8080/"
        },
        "id": "gUF5EeqImcER",
        "outputId": "5d82c533-daff-42ee-a8bd-71060adaa62f"
      },
      "execution_count": 65,
      "outputs": [
        {
          "output_type": "stream",
          "name": "stdout",
          "text": [
            "Best parameters:  {'learning_rate': 0.1, 'n_estimators': 50}\n",
            "Best recall score:  0.793110103906515\n"
          ]
        }
      ]
    },
    {
      "cell_type": "markdown",
      "source": [
        "Ada boost with SMOTE"
      ],
      "metadata": {
        "id": "d_h8Tueanw3I"
      }
    },
    {
      "cell_type": "code",
      "source": [
        "from sklearn.ensemble import AdaBoostClassifier\n",
        "from sklearn.metrics import recall_score, make_scorer\n",
        "from sklearn.model_selection import GridSearchCV\n",
        "from imblearn.pipeline import Pipeline\n",
        "\n",
        "from imblearn.over_sampling import SMOTE\n",
        "\n",
        "model = Pipeline([\n",
        "        ('balancing', SMOTE(random_state = 101)),\n",
        "        ('classification', AdaBoostClassifier(random_state=1))\n",
        "    ])\n",
        "grid_param = {'classification__n_estimators': [50,100,150,200,300]}\n",
        "\n",
        "gd_sr = GridSearchCV(estimator=model, param_grid=grid_param, scoring='recall', cv=5)\n",
        "\n",
        "\n",
        "\n",
        "gd_sr.fit(X_train, Y_train)\n",
        "\n",
        "best_parameters = gd_sr.best_params_\n",
        "print(best_parameters)\n",
        "\n",
        "best_result = gd_sr.best_score_ # Mean cross-validated score of the best_estimator\n",
        "print(best_result)\n",
        "\n",
        "featimp = pd.Series(gd_sr.best_estimator_.named_steps[\"classification\"].feature_importances_, index=list(X)).sort_values(ascending=False) # Getting feature importances list for the best model\n",
        "print(featimp)\n",
        "\n"
      ],
      "metadata": {
        "colab": {
          "base_uri": "https://localhost:8080/"
        },
        "id": "4dJ70Ea3nvkU",
        "outputId": "2d635bb6-c314-45b9-dc2a-8830bba656b7"
      },
      "execution_count": 27,
      "outputs": [
        {
          "output_type": "stream",
          "name": "stdout",
          "text": [
            "{'classification__n_estimators': 50}\n",
            "0.9908685598002034\n",
            "Customer Segment                 0.26\n",
            "Days for shipping (real)         0.22\n",
            "Order Item Quantity              0.12\n",
            "Order Item Discount Rate         0.08\n",
            "Order Item Profit Ratio          0.04\n",
            "Sales                            0.04\n",
            "Delivery Status                  0.04\n",
            "Product Price                    0.04\n",
            "Category Id                      0.02\n",
            "Category Name                    0.02\n",
            "Order Region                     0.02\n",
            "Customer Id                      0.02\n",
            "Customer State                   0.02\n",
            "Latitude                         0.02\n",
            "Product Name                     0.02\n",
            "Order Item Id                    0.02\n",
            "Order State                      0.00\n",
            "Order Item Discount              0.00\n",
            "Product Card Id                  0.00\n",
            "Type                             0.00\n",
            "Longitude                        0.00\n",
            "Order Id                         0.00\n",
            "Order Country                    0.00\n",
            "Order City                       0.00\n",
            "Market                           0.00\n",
            "Department Id                    0.00\n",
            "Customer Country                 0.00\n",
            "Customer City                    0.00\n",
            "Late_delivery_risk               0.00\n",
            "Sales per customer               0.00\n",
            "Benefit per order                0.00\n",
            "Days for shipment (scheduled)    0.00\n",
            "Shipping Mode                    0.00\n",
            "dtype: float64\n"
          ]
        }
      ]
    },
    {
      "cell_type": "markdown",
      "source": [
        "\n",
        "\n",
        "*   ADA Boost baseline model:\n",
        "*   ADA Boost Hyperparameter model:0.793110103906515\n",
        "*   ADA Boost with SMOTE model:0.9908685598002034\n",
        "\n",
        "\n"
      ],
      "metadata": {
        "id": "7Ah6XIY8iBwv"
      }
    },
    {
      "cell_type": "markdown",
      "source": [
        "##SUPPORT VECTOR CLASSIFIER"
      ],
      "metadata": {
        "id": "-VxWbiKsjT9L"
      }
    },
    {
      "cell_type": "markdown",
      "source": [
        "SVC Baseline model"
      ],
      "metadata": {
        "id": "vFtkb_Rcjs0G"
      }
    },
    {
      "cell_type": "code",
      "source": [
        "from sklearn.svm import SVC\n",
        "from sklearn.metrics import recall_score\n",
        "\n",
        "# Create an instance of the SVC model\n",
        "clf_svc = SVC()\n",
        "\n",
        "# Train the classifier on the training data\n",
        "clf_svc.fit(X_train, Y_train)\n",
        "\n",
        "# Make predictions on the test set\n",
        "y_predict_svc = clf_svc.predict(X_test)\n",
        "\n",
        "# Evaluate the performance of the model\n",
        "recall = recall_score(Y_test, y_predict_svc)\n",
        "print(\"Recall of the SVC classifier: \", recall )\n",
        "\n",
        "# Print the model parameters\n",
        "print(\"Model parameters: \", clf_svc.get_params())"
      ],
      "metadata": {
        "colab": {
          "base_uri": "https://localhost:8080/"
        },
        "id": "f0Cc0er7ZT2W",
        "outputId": "10ca299c-a163-4460-c74f-368759d4a473"
      },
      "execution_count": 21,
      "outputs": [
        {
          "output_type": "stream",
          "name": "stdout",
          "text": [
            "Recall of the SVC classifier:  0.297119341563786\n",
            "Model parameters:  {'C': 1.0, 'break_ties': False, 'cache_size': 200, 'class_weight': None, 'coef0': 0.0, 'decision_function_shape': 'ovr', 'degree': 3, 'gamma': 'scale', 'kernel': 'rbf', 'max_iter': -1, 'probability': False, 'random_state': None, 'shrinking': True, 'tol': 0.001, 'verbose': False}\n"
          ]
        }
      ]
    },
    {
      "cell_type": "markdown",
      "source": [
        "SVC Hyperparameter tuning"
      ],
      "metadata": {
        "id": "6VCAD3AkjxFi"
      }
    },
    {
      "cell_type": "code",
      "source": [
        "from sklearn.svm import SVC\n",
        "from sklearn.metrics import recall_score\n",
        "from sklearn.model_selection import GridSearchCV\n",
        "from imblearn.over_sampling import SMOTE\n",
        "from imblearn.pipeline import Pipeline\n",
        "\n",
        "\n",
        "\n",
        "# Define the parameter grid for hyperparameter tuning\n",
        "param_grid = {'C': [0.1, 1, 10],\n",
        "              'kernel': ['rbf','linear']}\n",
        "\n",
        "\n",
        "# Create the SVC object\n",
        "svc = SVC()\n",
        "\n",
        "# Create the GridSearchCV object\n",
        "grid_search = GridSearchCV(svc, param_grid, cv=5, scoring='recall')\n",
        "\n",
        "# Fit the GridSearchCV object to the data\n",
        "grid_search.fit(X_train, Y_train)\n",
        "\n",
        "# Print the best parameters and the best score\n",
        "print(\"Best Parameters:\", grid_search.best_params_)\n",
        "print(\"Best Score:\", grid_search.best_score_)\n",
        "\n",
        "# Use the best parameters to create a new SVC object\n",
        "svc = SVC(C=grid_search.best_params_['C'], kernel=grid_search.best_params_['kernel'])\n",
        "\n",
        "# Fit the SVC object to the data\n",
        "svc.fit(X_train, Y_train)\n",
        "\n",
        "# Use the SVC object to predict the labels of the test data\n",
        "y_pred = svc.predict(X_test)\n",
        "\n",
        "# Print the recall score\n",
        "print(\"Recall Score:\", recall_score(Y_test, y_pred))"
      ],
      "metadata": {
        "colab": {
          "base_uri": "https://localhost:8080/"
        },
        "id": "gBln-udq3fJc",
        "outputId": "496531bf-3eaa-4fd1-ec07-7d3dfafcf71a"
      },
      "execution_count": 18,
      "outputs": [
        {
          "output_type": "stream",
          "name": "stdout",
          "text": [
            "Best Parameters: {'C': 10, 'kernel': 'rbf'}\n",
            "Best Score: 0.6122270526932445\n",
            "Recall Score: 0.6419753086419753\n"
          ]
        }
      ]
    },
    {
      "cell_type": "markdown",
      "source": [
        "SVC SMOTE"
      ],
      "metadata": {
        "id": "m9Yi-ujiIjGD"
      }
    },
    {
      "cell_type": "code",
      "source": [
        "from sklearn.svm import SVC\n",
        "from sklearn.metrics import recall_score\n",
        "from sklearn.model_selection import GridSearchCV\n",
        "from imblearn.over_sampling import SMOTE\n",
        "from imblearn.pipeline import Pipeline\n",
        "\n",
        "\n",
        "\n",
        "# Define the parameter grid for hyperparameter tuning\n",
        "param_grid = {'C': [10], 'kernel': [ 'rbf']}\n",
        "\n",
        "# Create the SMOTE object\n",
        "sm = SMOTE()\n",
        "X_train, Y_train = sm.fit_resample(X_train, Y_train)\n",
        "\n",
        "# Create the SVC object\n",
        "svc = SVC()\n",
        "\n",
        "# Create the GridSearchCV object\n",
        "grid_search = GridSearchCV(svc, param_grid, cv=5, scoring='recall')\n",
        "\n",
        "# Fit the GridSearchCV object to the data\n",
        "grid_search.fit(X_train, Y_train)\n",
        "\n",
        "# Print the best parameters and the best score\n",
        "print(\"Best Parameters:\", grid_search.best_params_)\n",
        "print(\"Best Score:\", grid_search.best_score_)\n",
        "\n",
        "# Use the best parameters to create a new SVC object\n",
        "svc = SVC(C=grid_search.best_params_['C'], kernel=grid_search.best_params_['kernel'])\n",
        "\n",
        "# Fit the SVC object to the data\n",
        "svc.fit(X_train, Y_train)\n",
        "\n",
        "# Use the SVC object to predict the labels of the test data\n",
        "y_pred = svc.predict(X_test)\n",
        "\n",
        "# Print the recall score\n",
        "print(\"Recall Score:\", recall_score(Y_test, y_pred))"
      ],
      "metadata": {
        "colab": {
          "base_uri": "https://localhost:8080/"
        },
        "id": "35uFMplkrhfD",
        "outputId": "7b57a2cf-82f4-4e0d-a386-293333305d96"
      },
      "execution_count": 18,
      "outputs": [
        {
          "output_type": "stream",
          "name": "stdout",
          "text": [
            "Best Parameters: {'C': 10, 'kernel': 'rbf'}\n",
            "Best Score: 1.0\n",
            "Recall Score: 0.8098765432098766\n"
          ]
        }
      ]
    },
    {
      "cell_type": "markdown",
      "source": [
        "SVC all scores"
      ],
      "metadata": {
        "id": "dzYlfvdrRqAx"
      }
    },
    {
      "cell_type": "code",
      "source": [
        "from sklearn.svm import SVC\n",
        "from sklearn.model_selection import GridSearchCV\n",
        "from sklearn.metrics import accuracy_score, precision_score, recall_score, f1_score\n",
        "import numpy as np\n",
        "\n",
        "\n",
        "# Define the hyperparameters to tune\n",
        "param_grid = {'C': [ 10],\n",
        "              'kernel': ['rbf']}\n",
        "\n",
        "# Create the SVC model\n",
        "svc = SVC()\n",
        "\n",
        "# Create the GridSearchCV object\n",
        "grid_search = GridSearchCV(svc, param_grid, cv=5, scoring='recall')\n",
        "\n",
        "# Fit the GridSearchCV object to the training data\n",
        "grid_search.fit(X_train, Y_train)\n",
        "\n",
        "# Print the best parameters\n",
        "print(\"Best parameters:\", grid_search.best_params_)\n",
        "\n",
        "# Get the best SVC model\n",
        "best_svc = grid_search.best_estimator_\n",
        "\n",
        "# Make predictions on the test set\n",
        "Y_pred = best_svc.predict(X_test)\n",
        "\n",
        "# Calculate evaluation metrics\n",
        "acc = accuracy_score(Y_test, Y_pred)\n",
        "prec = precision_score(Y_test, Y_pred)\n",
        "rec = recall_score(Y_test, Y_pred)\n",
        "f1 = f1_score(Y_test, Y_pred)\n",
        "\n",
        "# Print the evaluation metrics\n",
        "print(\"Accuracy:\", acc)\n",
        "print(\"Precision:\", prec)\n",
        "print(\"Recall:\", rec)\n",
        "print(\"F1-score:\", f1)\n"
      ],
      "metadata": {
        "colab": {
          "base_uri": "https://localhost:8080/"
        },
        "id": "PZOCkixEsYR_",
        "outputId": "5cb1ddf9-845a-4b26-ff22-fd56ddd773c8"
      },
      "execution_count": 19,
      "outputs": [
        {
          "output_type": "stream",
          "name": "stdout",
          "text": [
            "Best parameters: {'C': 10, 'kernel': 'rbf'}\n",
            "Accuracy: 0.9840276239013221\n",
            "Precision: 0.6446280991735537\n",
            "Recall: 0.6419753086419753\n",
            "F1-score: 0.643298969072165\n"
          ]
        }
      ]
    },
    {
      "cell_type": "markdown",
      "source": [
        "svc confusion matrix"
      ],
      "metadata": {
        "id": "_fGZ5Ely8NKd"
      }
    },
    {
      "cell_type": "code",
      "source": [
        "import numpy as np\n",
        "from sklearn.model_selection import train_test_split, GridSearchCV\n",
        "from sklearn.preprocessing import StandardScaler\n",
        "from sklearn.svm import SVC\n",
        "from sklearn.metrics import confusion_matrix\n",
        "\n",
        "\n",
        "\n",
        "# Split the data into training and test sets\n",
        "#X_train, X_test, y_train, y_test = train_test_split(X, y, test_size=0.2, random_state=42)\n",
        "\n",
        "# Standardize the data\n",
        "scaler = StandardScaler()\n",
        "X_train = scaler.fit_transform(X_train)\n",
        "X_test = scaler.transform(X_test)\n",
        "\n",
        "# Define the parameter grid for grid search\n",
        "param_grid = {'C': [0.1, 1, 10], 'kernel': ['linear', 'rbf']}\n",
        "\n",
        "# Perform grid search to find the best parameters\n",
        "svc = SVC()\n",
        "grid_search = GridSearchCV(svc, param_grid, cv=5)\n",
        "grid_search.fit(X_train, Y_train)\n",
        "\n",
        "# Print the best parameters\n",
        "print(grid_search.best_params_)\n",
        "\n",
        "# Train the model with the best parameters\n",
        "svc = SVC(C=grid_search.best_params_['C'], kernel=grid_search.best_params_['kernel'])\n",
        "svc.fit(X_train, Y_train)\n",
        "\n",
        "# Predict on the test set\n",
        "y_pred = svc.predict(X_test)\n",
        "\n",
        "# Compute the confusion matrix\n",
        "confusion_mat = confusion_matrix(Y_test, y_pred)\n",
        "print(confusion_mat)"
      ],
      "metadata": {
        "id": "JZzFWyLawRyq",
        "colab": {
          "base_uri": "https://localhost:8080/"
        },
        "outputId": "865b24b1-c662-4428-b84c-c2ac99b143e1"
      },
      "execution_count": 18,
      "outputs": [
        {
          "output_type": "stream",
          "name": "stdout",
          "text": [
            "{'C': 10, 'kernel': 'rbf'}\n",
            "[[52511   430]\n",
            " [  435   780]]\n"
          ]
        }
      ]
    },
    {
      "cell_type": "code",
      "source": [
        "from sklearn.metrics import confusion_matrix\n",
        "from sklearn.metrics import accuracy_score\n",
        "from sklearn.metrics import f1_score\n",
        "from sklearn.metrics import recall_score\n",
        "from sklearn.metrics import precision_score\n",
        "from sklearn.metrics import roc_curve\n",
        "from sklearn.metrics import auc\n",
        "from sklearn.metrics import RocCurveDisplay"
      ],
      "metadata": {
        "id": "X6UBa94QKsJG"
      },
      "execution_count": 21,
      "outputs": []
    },
    {
      "cell_type": "code",
      "source": [
        "def ML_model_training_testing(ML_model, X_train, y_train, X_test, y_test):\n",
        "    CrossValid_scores = cross_validate(ML_model, X_train, Y_train, cv=10, scoring='accuracy', return_train_score=True)\n",
        "\n",
        "    train_accuracy = np.mean(CrossValid_scores['train_score'])\n",
        "    cross_val_accuracy = np.mean(CrossValid_scores['test_score'])\n",
        "\n",
        "    print(f\"Train accuracy = {train_accuracy*100:.4f}\")\n",
        "    print(f\"Cross validation accuracy= {cross_val_accuracy*100:.4f}\")\n",
        "\n",
        "    # Train SVM classifier on the labelled dataset\n",
        "    ML_model.fit(X_train, Y_train)\n",
        "\n",
        "    #To plot confusion matrix and finding out precision,recall,accuracy and f1 score.\n",
        "    y_predict = ML_model.predict(X_test)\n",
        "    con_mat = confusion_matrix(Y_test, y_predict)\n",
        "    print(\"Confusion matrix\")\n",
        "    print(con_mat)\n",
        "    pre = precision_score(Y_test, y_predict)\n",
        "    rec = recall_score(y_test, y_predict)\n",
        "    f1 = f1_score(y_test, y_predict)\n",
        "    accu = accuracy_score(Y_test, y_predict)\n",
        "    print(f\"Precision = {pre*100}\")\n",
        "    print(f\"Accuracy = {accu*100}\")\n",
        "    print(f\"F1 Score = {f1*100}\")\n",
        "    print(f\"Recall = {rec*100}\")\n",
        "    \n",
        "    return ML_model, y_predict\n",
        "\n",
        "# Function to plot ROC curve\n",
        "def plotROCcurve(y_true, y_predict, classifier_name=\"\"):\n",
        "    fpr, tpr, thresh = roc_curve(y_true, y_predict)\n",
        "    roc_auc = auc(fpr, tpr)\n",
        "    plt.figure()\n",
        "    roc_display = RocCurveDisplay(fpr = fpr, tpr = tpr).plot(color = \"blue\", label = f\"ROC curve (area = {roc_auc:.4f})\")\n",
        "    plt.plot([0, 1], [0, 1], color = \"red\", lw = 2, linestyle = \"--\")\n",
        "    plt.xlim([0.0, 1.0])\n",
        "    plt.ylim([0.0, 1.05])\n",
        "    plt.xlabel(\"False Positive Rate\")\n",
        "    plt.ylabel(\"True Positive Rate\")\n",
        "    plt.title(\"ROC curve of \" + classifier_name +  \" Classifier\")\n",
        "    plt.legend(loc=\"lower right\")"
      ],
      "metadata": {
        "id": "5Svtqp2oKcwc"
      },
      "execution_count": 22,
      "outputs": []
    },
    {
      "cell_type": "code",
      "source": [
        "from sklearn import preprocessing\n",
        "from sklearn.model_selection import train_test_split, cross_validate"
      ],
      "metadata": {
        "id": "4QOVBjo9NJPr"
      },
      "execution_count": 23,
      "outputs": []
    },
    {
      "cell_type": "code",
      "source": [
        "clf_SVM = SVC(C = 10, kernel = 'rbf')\n",
        "trained_SVM_model, y_predict_SVM = ML_model_training_testing(clf_SVM, X_train, Y_train, X_test, Y_test)\n",
        "plotROCcurve(Y_test, y_predict_SVM, classifier_name=\"SVM\")"
      ],
      "metadata": {
        "colab": {
          "base_uri": "https://localhost:8080/",
          "height": 469
        },
        "id": "4fQg7D0DKv6z",
        "outputId": "14c2b924-9c6a-4602-f836-aeaa94c1e047"
      },
      "execution_count": 24,
      "outputs": [
        {
          "output_type": "stream",
          "name": "stdout",
          "text": [
            "Train accuracy = 99.5529\n",
            "Cross validation accuracy= 98.3365\n",
            "Confusion matrix\n",
            "[[52511   430]\n",
            " [  435   780]]\n",
            "Precision = 64.46280991735537\n",
            "Accuracy = 98.40276239013221\n",
            "F1 Score = 64.3298969072165\n",
            "Recall = 64.19753086419753\n"
          ]
        },
        {
          "output_type": "display_data",
          "data": {
            "text/plain": [
              "<Figure size 432x288 with 0 Axes>"
            ]
          },
          "metadata": {}
        },
        {
          "output_type": "display_data",
          "data": {
            "text/plain": [
              "<Figure size 432x288 with 1 Axes>"
            ],
            "image/png": "[encoded data removed]"
          },
          "metadata": {
            "needs_background": "light"
          }
        }
      ]
    },
    {
      "cell_type": "markdown",
      "source": [
        "##RESULTS\n",
        "\n",
        "\n",
        "\n",
        "*   SVC Baseline Model:29.71%\n",
        "*   SVC Hyperparamater tuned Model:0.6122270526932445\n",
        "*   SVC with SMOTE:1.0\n",
        "\n",
        "\n",
        "\n"
      ],
      "metadata": {
        "id": "BAyZc5E0kXe1"
      }
    },
    {
      "cell_type": "markdown",
      "source": [
        "XG Boost Baseline model"
      ],
      "metadata": {
        "id": "K5cJn9ewReja"
      }
    },
    {
      "cell_type": "code",
      "source": [
        "import xgboost as xgb\n",
        "from sklearn.metrics import recall_score\n",
        "from sklearn.model_selection import train_test_split\n",
        "\n",
        "# Define the model\n",
        "model = xgb.XGBClassifier()\n",
        "\n",
        "# Train the model\n",
        "model.fit(X_train, Y_train)\n",
        "\n",
        "# Make predictions\n",
        "y_pred = model.predict(X_test)\n",
        "\n",
        "# Evaluate the model using recall score\n",
        "recall = recall_score(Y_test, y_pred)\n",
        "print(\"Recall score:\", recall)"
      ],
      "metadata": {
        "colab": {
          "base_uri": "https://localhost:8080/"
        },
        "id": "hXjFyBbhQdVT",
        "outputId": "aec11b70-789a-4e2b-df59-3596a6437d99"
      },
      "execution_count": 41,
      "outputs": [
        {
          "output_type": "stream",
          "name": "stdout",
          "text": [
            "Recall score: 0.7300411522633745\n"
          ]
        }
      ]
    },
    {
      "cell_type": "markdown",
      "source": [
        "##XG Boost Hyperparameter Tuning."
      ],
      "metadata": {
        "id": "ngQuanbNQenB"
      }
    },
    {
      "cell_type": "code",
      "source": [
        "import xgboost as xgb\n",
        "from sklearn.model_selection import GridSearchCV\n",
        "from sklearn.metrics import make_scorer, recall_score\n",
        "\n",
        "\n",
        "# define the model\n",
        "xgb_model = xgb.XGBClassifier()\n",
        "\n",
        "# define the parameter grid\n",
        "param_grid = {\n",
        "    'max_depth': [3, 5, 7],\n",
        "    'learning_rate': [0.1, 0.3, 0.5],\n",
        "    'n_estimators': [100, 200, 300]\n",
        "}\n",
        "\n",
        "# define the recall scoring metric\n",
        "recall_scorer = make_scorer(recall_score)\n",
        "\n",
        "# set up the GridSearchCV object\n",
        "grid_search = GridSearchCV(xgb_model, param_grid, scoring=recall_scorer)\n",
        "\n",
        "# fit the GridSearchCV object to the data\n",
        "grid_search.fit(X_train, Y_train)\n",
        "\n",
        "# print the best parameters and the best recall score\n",
        "print(\"Best parameters: \", grid_search.best_params_)\n",
        "print(\"Best recall score: \", grid_search.best_score_)\n",
        "\n",
        "# evaluate the model on the test set\n",
        "y_pred = grid_search.predict(X_test)\n",
        "test_recall = recall_score(Y_test, y_pred)\n",
        "print(\"Test recall score: \", test_recall)"
      ],
      "metadata": {
        "colab": {
          "base_uri": "https://localhost:8080/"
        },
        "id": "Vy5MCKOD9FIa",
        "outputId": "7f7d6113-b10a-4ac8-fbec-1ee54acb279e"
      },
      "execution_count": 40,
      "outputs": [
        {
          "output_type": "stream",
          "name": "stdout",
          "text": [
            "Best parameters:  {'learning_rate': 0.3, 'max_depth': 7, 'n_estimators': 300}\n",
            "Best recall score:  0.8573853790891993\n",
            "Test recall score:  0.8880658436213992\n"
          ]
        }
      ]
    },
    {
      "cell_type": "markdown",
      "source": [
        "XG BOOST With SMOTE"
      ],
      "metadata": {
        "id": "fNmrdY5x894g"
      }
    },
    {
      "cell_type": "code",
      "source": [
        "import xgboost as xgb\n",
        "from sklearn.metrics import recall_score\n",
        "from sklearn.model_selection import GridSearchCV\n",
        "from imblearn.over_sampling import SMOTE\n",
        "\n",
        "\n",
        "# oversample minority class using SMOTE\n",
        "sm = SMOTE()\n",
        "X_train, Y_train = sm.fit_resample(X_train, Y_train)\n",
        "\n",
        "# define xgboost classifier\n",
        "xgb_clf = xgb.XGBClassifier()\n",
        "\n",
        "# define hyperparameter grid to search\n",
        "param_grid = {'max_depth': [7],\n",
        "              'learning_rate': [0.1],\n",
        "              'n_estimators': [300]}\n",
        "\n",
        "# define scoring metric as recall\n",
        "scoring = {'Recall': 'recall'}\n",
        "\n",
        "# perform grid search with cross-validation\n",
        "xgb_grid = GridSearchCV(xgb_clf, param_grid, cv=5, scoring=scoring, refit='Recall')\n",
        "xgb_grid.fit(X_train, Y_train)\n",
        "\n",
        "# print best parameters and recall score\n",
        "print(\"Best parameters: \", xgb_grid.best_params_)\n",
        "print(\"Best recall score: \", xgb_grid.best_score_)\n",
        "\n",
        "# make predictions on test set and evaluate recall score\n",
        "y_pred = xgb_grid.predict(X_test)\n",
        "test_recall = recall_score(Y_test, y_pred)\n",
        "print(\"Test recall score: \", test_recall)\n",
        "\n"
      ],
      "metadata": {
        "colab": {
          "base_uri": "https://localhost:8080/"
        },
        "id": "vxNJYgOzeczI",
        "outputId": "2bda4ded-b69b-46f2-b515-045596321892"
      },
      "execution_count": 18,
      "outputs": [
        {
          "output_type": "stream",
          "name": "stdout",
          "text": [
            "Best parameters:  {'learning_rate': 0.1, 'max_depth': 7, 'n_estimators': 300}\n",
            "Best recall score:  0.9857588147188601\n",
            "Test recall score:  0.8724279835390947\n"
          ]
        }
      ]
    },
    {
      "cell_type": "markdown",
      "source": [
        "XG Boost confusion matrix"
      ],
      "metadata": {
        "id": "mNQ_dEv6STsB"
      }
    },
    {
      "cell_type": "code",
      "source": [
        "import xgboost as xgb\n",
        "from sklearn.metrics import confusion_matrix, recall_score, f1_score, accuracy_score, precision_score\n",
        "from sklearn.model_selection import train_test_split\n",
        "\n",
        "\n",
        "# create XGBoost classifier with parameters\n",
        "clf = xgb.XGBClassifier(max_depth=7, n_estimators=300, learning_rate=0.3)\n",
        "\n",
        "# fit the classifier to the training data\n",
        "clf.fit(X_train, Y_train)\n",
        "\n",
        "# make predictions on the test set\n",
        "y_pred = clf.predict(X_test)\n",
        "\n",
        "# calculate confusion matrix\n",
        "conf_mat = confusion_matrix(Y_test, y_pred)\n",
        "\n",
        "# calculate recall score\n",
        "recall = recall_score(Y_test, y_pred)\n",
        "\n",
        "# calculate f1 score\n",
        "f1 = f1_score(Y_test, y_pred)\n",
        "\n",
        "# calculate accuracy score\n",
        "accuracy = accuracy_score(Y_test, y_pred)\n",
        "\n",
        "# calculate precision score\n",
        "precision = precision_score(Y_test, y_pred)\n",
        "\n",
        "# print results\n",
        "print(\"Confusion Matrix: \\n\", conf_mat)\n",
        "print(\"Recall: \", recall)\n",
        "print(\"F1 Score: \", f1)\n",
        "print(\"Accuracy: \", accuracy)\n",
        "print(\"Precision: \", precision)"
      ],
      "metadata": {
        "colab": {
          "base_uri": "https://localhost:8080/"
        },
        "id": "u-dk7doNTfDs",
        "outputId": "268acc43-4b04-478f-c01d-bf4236abc121"
      },
      "execution_count": 44,
      "outputs": [
        {
          "output_type": "stream",
          "name": "stdout",
          "text": [
            "Confusion Matrix: \n",
            " [[52806   135]\n",
            " [  136  1079]]\n",
            "Recall:  0.8880658436213992\n",
            "F1 Score:  0.8884314532729518\n",
            "Accuracy:  0.9949959376615702\n",
            "Precision:  0.8887973640856672\n"
          ]
        }
      ]
    },
    {
      "cell_type": "code",
      "source": [
        "import matplotlib.pyplot as plt\n",
        "from sklearn.metrics import roc_curve, auc\n",
        "\n",
        "# calculate the roc curve and auc\n",
        "y_pred_proba = clf.predict_proba(X_test)[::,1]\n",
        "fpr, tpr, _ = roc_curve(Y_test,  y_pred_proba)\n",
        "roc_auc = auc(fpr, tpr)\n",
        "\n",
        "# plot the roc curve\n",
        "plt.plot(fpr, tpr, color='darkorange', lw=2, label='ROC curve (area = %0.2f)' % roc_auc)\n",
        "plt.plot([0, 1], [0, 1], color='navy', lw=2, linestyle='--')\n",
        "plt.xlim([0.0, 1.0])\n",
        "plt.ylim([0.0, 1.05])\n",
        "plt.xlabel('False Positive Rate')\n",
        "plt.ylabel('True Positive Rate')\n",
        "plt.title('Receiver Operating Characteristic')\n",
        "plt.legend(loc=\"lower right\")\n",
        "plt.show()\n"
      ],
      "metadata": {
        "colab": {
          "base_uri": "https://localhost:8080/",
          "height": 295
        },
        "id": "vHqGJ3ZtV_6y",
        "outputId": "6bd25467-6afe-4331-bd19-e4988e8b9aa2"
      },
      "execution_count": 45,
      "outputs": [
        {
          "output_type": "display_data",
          "data": {
            "text/plain": [
              "<Figure size 432x288 with 1 Axes>"
            ],
            "image/png": "[encoded data removed]"
          },
          "metadata": {
            "needs_background": "light"
          }
        }
      ]
    },
    {
      "cell_type": "code",
      "source": [
        "from sklearn.model_selection import cross_val_score\n",
        "cv_scores = cross_val_score(clf, X, Y, cv=5)\n",
        "print(\"Cross Validation Scores: \", cv_scores)\n",
        "print(\"Mean Cross Validation Score: \", cv_scores.mean())"
      ],
      "metadata": {
        "colab": {
          "base_uri": "https://localhost:8080/"
        },
        "id": "7dRMK9CoXFn-",
        "outputId": "8c9ab6ec-3d10-47aa-9a51-b508d138ceea"
      },
      "execution_count": 46,
      "outputs": [
        {
          "output_type": "stream",
          "name": "stdout",
          "text": [
            "Cross Validation Scores:  [0.99288168 0.98975183 0.9802238  0.97512741 0.98471041]\n",
            "Mean Cross Validation Score:  0.9845390245424989\n"
          ]
        }
      ]
    },
    {
      "cell_type": "markdown",
      "source": [
        "**## XG BOOST RESULTS**\n",
        "\n",
        "\n",
        "*   XG Boost Baseline Model:0.7300411522633745   \n",
        "*   XG Boost Hyperparameter tuned Model: 0.8573853790891993\n",
        "*   XG Boost with SMOTE Model:0.9857588147188601\n",
        "\n",
        "\n"
      ],
      "metadata": {
        "id": "lAUf9Z0PlOnj"
      }
    }
  ],
  "metadata": {
    "colab": {
      "provenance": [],
      "authorship_tag": "ABX9TyM0PHa/+tq9SfakQD32IT2V",
      "include_colab_link": true
    },
    "kernelspec": {
      "display_name": "Python 3",
      "name": "python3"
    },
    "language_info": {
      "name": "python"
    }
  },
  "nbformat": 4,
  "nbformat_minor": 0
}