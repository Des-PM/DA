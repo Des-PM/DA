{
  "cells": [
    {
      "cell_type": "markdown",
      "metadata": {
        "id": "view-in-github",
        "colab_type": "text"
      },
      "source": [
        "<a href=\"https://colab.research.google.com/github/Des-PM/DA/blob/main/FraudDetection_Models.ipynb\" target=\"_parent\"><img src=\"https://colab.research.google.com/assets/colab-badge.svg\" alt=\"Open In Colab\"/></a>"
      ]
    },
    {
      "cell_type": "code",
      "execution_count": null,
      "metadata": {
        "id": "DJguI482t5OL"
      },
      "outputs": [],
      "source": [
        "import numpy as np\n",
        "import pandas as pd\n",
        "import seaborn as sns\n",
        "import matplotlib.pyplot as plt\n",
        "from imblearn.pipeline import Pipeline\n",
        "from imblearn.over_sampling import SMOTE  \n",
        "from sklearn.model_selection import GridSearchCV\n",
        "from sklearn.model_selection import RandomizedSearchCV\n",
        "from sklearn.preprocessing import StandardScaler\n",
        "from sklearn import metrics\n",
        "from itertools import combinations\n",
        "from sklearn import preprocessing\n",
        "from sklearn.model_selection import train_test_split, cross_validate\n",
        "from sklearn.metrics import recall_score, make_scorer\n",
        "\n",
        "\n",
        "from sklearn.ensemble import RandomForestClassifier\n",
        "from sklearn.ensemble import AdaBoostClassifier\n",
        "from sklearn.svm import SVC\n",
        "import xgboost as xgb\n",
        "\n",
        "\n",
        "from sklearn.metrics import confusion_matrix\n",
        "from sklearn.metrics import accuracy_score\n",
        "from sklearn.metrics import f1_score\n",
        "from sklearn.metrics import recall_score\n",
        "from sklearn.metrics import precision_score\n",
        "from sklearn.metrics import roc_curve\n",
        "from sklearn.metrics import auc\n",
        "from sklearn.metrics import RocCurveDisplay\n",
        "\n",
        "\n",
        "%matplotlib inline\n",
        "import warnings\n",
        "warnings.filterwarnings(\"ignore\", category=FutureWarning)\n",
        "\n"
      ]
    },
    {
      "cell_type": "markdown",
      "source": [
        "## Data Sourcing"
      ],
      "metadata": {
        "id": "3e9W9zDD9lbV"
      }
    },
    {
      "cell_type": "code",
      "execution_count": null,
      "metadata": {
        "colab": {
          "base_uri": "https://localhost:8080/"
        },
        "id": "ExfrCKYHtmbS",
        "outputId": "7820fa4d-963e-4e54-937e-3580dbe64f95"
      },
      "outputs": [
        {
          "output_type": "stream",
          "name": "stdout",
          "text": [
            "Looking in indexes: https://pypi.org/simple, https://us-python.pkg.dev/colab-wheels/public/simple/\n",
            "Requirement already satisfied: kaggle in /usr/local/lib/python3.8/dist-packages (1.5.12)\n",
            "Requirement already satisfied: urllib3 in /usr/local/lib/python3.8/dist-packages (from kaggle) (1.24.3)\n",
            "Requirement already satisfied: python-slugify in /usr/local/lib/python3.8/dist-packages (from kaggle) (7.0.0)\n",
            "Requirement already satisfied: certifi in /usr/local/lib/python3.8/dist-packages (from kaggle) (2022.12.7)\n",
            "Requirement already satisfied: requests in /usr/local/lib/python3.8/dist-packages (from kaggle) (2.25.1)\n",
            "Requirement already satisfied: six>=1.10 in /usr/local/lib/python3.8/dist-packages (from kaggle) (1.15.0)\n",
            "Requirement already satisfied: tqdm in /usr/local/lib/python3.8/dist-packages (from kaggle) (4.64.1)\n",
            "Requirement already satisfied: python-dateutil in /usr/local/lib/python3.8/dist-packages (from kaggle) (2.8.2)\n",
            "Requirement already satisfied: text-unidecode>=1.3 in /usr/local/lib/python3.8/dist-packages (from python-slugify->kaggle) (1.3)\n",
            "Requirement already satisfied: idna<3,>=2.5 in /usr/local/lib/python3.8/dist-packages (from requests->kaggle) (2.10)\n",
            "Requirement already satisfied: chardet<5,>=3.0.2 in /usr/local/lib/python3.8/dist-packages (from requests->kaggle) (4.0.0)\n"
          ]
        }
      ],
      "source": [
        "!pip install kaggle\n"
      ]
    },
    {
      "cell_type": "code",
      "execution_count": null,
      "metadata": {
        "colab": {
          "base_uri": "https://localhost:8080/"
        },
        "id": "lS-uYWQvAsqF",
        "outputId": "25cef06d-2286-4b87-8c05-a54166b85bcf"
      },
      "outputs": [
        {
          "output_type": "stream",
          "name": "stdout",
          "text": [
            "Mounted at /content/drive\n"
          ]
        }
      ],
      "source": [
        "from google.colab import drive\n",
        "drive.mount('/content/drive')"
      ]
    },
    {
      "cell_type": "code",
      "execution_count": null,
      "metadata": {
        "colab": {
          "base_uri": "https://localhost:8080/"
        },
        "id": "z9cBi3weAzZX",
        "outputId": "8a8a001d-a1b5-483f-d4f1-886b0a175fd9"
      },
      "outputs": [
        {
          "output_type": "stream",
          "name": "stdout",
          "text": [
            "Downloading dataco-smart-supply-chain-for-big-data-analysis.zip to /content\n",
            " 35% 9.00M/25.7M [00:00<00:00, 37.1MB/s]\n",
            "100% 25.7M/25.7M [00:00<00:00, 83.5MB/s]\n",
            "Archive:  /content/dataco-smart-supply-chain-for-big-data-analysis.zip\n",
            "  inflating: DataCoSupplyChainDataset.csv  \n",
            "  inflating: DescriptionDataCoSupplyChain.csv  \n",
            "  inflating: tokenized_access_logs.csv  \n"
          ]
        }
      ],
      "source": [
        "!mkdir ~/.kaggle \n",
        "!cp /content/drive/MyDrive/kaggle.json ~/.kaggle/kaggle.json\n",
        "!chmod 600 ~/.kaggle/kaggle.json\n",
        "! kaggle datasets download shashwatwork/dataco-smart-supply-chain-for-big-data-analysis\n",
        "!unzip /content/dataco-smart-supply-chain-for-big-data-analysis.zip"
      ]
    },
    {
      "cell_type": "code",
      "execution_count": null,
      "metadata": {
        "id": "9JAhYTtTBPda"
      },
      "outputs": [],
      "source": [
        "df = pd.read_csv('/content/DataCoSupplyChainDataset.csv',encoding='latin-1')"
      ]
    },
    {
      "cell_type": "markdown",
      "source": [
        "## Data Cleaning: Data Extraction, Transformation and Cleaning"
      ],
      "metadata": {
        "id": "euXFnxPJ-IsA"
      }
    },
    {
      "cell_type": "code",
      "execution_count": null,
      "metadata": {
        "colab": {
          "base_uri": "https://localhost:8080/"
        },
        "id": "kulcYe1mBgvR",
        "outputId": "ca079c91-44ed-4a43-c9e1-66795199c2c7"
      },
      "outputs": [
        {
          "output_type": "stream",
          "name": "stdout",
          "text": [
            "Columns with NaN values are: Index(['Customer Lname', 'Customer Zipcode', 'Order Zipcode',\n",
            "       'Product Description'],\n",
            "      dtype='object')\n"
          ]
        }
      ],
      "source": [
        "# check NaN values\n",
        "null_columns = df.columns[df.isna().any()] \n",
        "# printing column names containing NaN\n",
        "print('Columns with NaN values are:' , null_columns)"
      ]
    },
    {
      "cell_type": "code",
      "execution_count": null,
      "metadata": {
        "colab": {
          "base_uri": "https://localhost:8080/"
        },
        "id": "XfqlMo_aBkIo",
        "outputId": "36a53817-57bc-482a-9299-12dceb60428d"
      },
      "outputs": [
        {
          "output_type": "stream",
          "name": "stdout",
          "text": [
            "<class 'pandas.core.frame.DataFrame'>\n",
            "RangeIndex: 180519 entries, 0 to 180518\n",
            "Data columns (total 49 columns):\n",
            " #   Column                         Non-Null Count   Dtype  \n",
            "---  ------                         --------------   -----  \n",
            " 0   Type                           180519 non-null  object \n",
            " 1   Days for shipping (real)       180519 non-null  int64  \n",
            " 2   Days for shipment (scheduled)  180519 non-null  int64  \n",
            " 3   Benefit per order              180519 non-null  float64\n",
            " 4   Sales per customer             180519 non-null  float64\n",
            " 5   Delivery Status                180519 non-null  object \n",
            " 6   Late_delivery_risk             180519 non-null  int64  \n",
            " 7   Category Id                    180519 non-null  int64  \n",
            " 8   Category Name                  180519 non-null  object \n",
            " 9   Customer City                  180519 non-null  object \n",
            " 10  Customer Country               180519 non-null  object \n",
            " 11  Customer Email                 180519 non-null  object \n",
            " 12  Customer Fname                 180519 non-null  object \n",
            " 13  Customer Id                    180519 non-null  int64  \n",
            " 14  Customer Password              180519 non-null  object \n",
            " 15  Customer Segment               180519 non-null  object \n",
            " 16  Customer State                 180519 non-null  object \n",
            " 17  Customer Street                180519 non-null  object \n",
            " 18  Department Id                  180519 non-null  int64  \n",
            " 19  Department Name                180519 non-null  object \n",
            " 20  Latitude                       180519 non-null  float64\n",
            " 21  Longitude                      180519 non-null  float64\n",
            " 22  Market                         180519 non-null  object \n",
            " 23  Order City                     180519 non-null  object \n",
            " 24  Order Country                  180519 non-null  object \n",
            " 25  Order Customer Id              180519 non-null  int64  \n",
            " 26  order date (DateOrders)        180519 non-null  object \n",
            " 27  Order Id                       180519 non-null  int64  \n",
            " 28  Order Item Cardprod Id         180519 non-null  int64  \n",
            " 29  Order Item Discount            180519 non-null  float64\n",
            " 30  Order Item Discount Rate       180519 non-null  float64\n",
            " 31  Order Item Id                  180519 non-null  int64  \n",
            " 32  Order Item Product Price       180519 non-null  float64\n",
            " 33  Order Item Profit Ratio        180519 non-null  float64\n",
            " 34  Order Item Quantity            180519 non-null  int64  \n",
            " 35  Sales                          180519 non-null  float64\n",
            " 36  Order Item Total               180519 non-null  float64\n",
            " 37  Order Profit Per Order         180519 non-null  float64\n",
            " 38  Order Region                   180519 non-null  object \n",
            " 39  Order State                    180519 non-null  object \n",
            " 40  Order Status                   180519 non-null  object \n",
            " 41  Product Card Id                180519 non-null  int64  \n",
            " 42  Product Category Id            180519 non-null  int64  \n",
            " 43  Product Image                  180519 non-null  object \n",
            " 44  Product Name                   180519 non-null  object \n",
            " 45  Product Price                  180519 non-null  float64\n",
            " 46  Product Status                 180519 non-null  int64  \n",
            " 47  shipping date (DateOrders)     180519 non-null  object \n",
            " 48  Shipping Mode                  180519 non-null  object \n",
            "dtypes: float64(12), int64(14), object(23)\n",
            "memory usage: 67.5+ MB\n",
            "None\n"
          ]
        }
      ],
      "source": [
        "# removing the coumns having NaN values\n",
        "df = df.drop(columns = null_columns, axis=1)\n",
        "print(df.info())"
      ]
    },
    {
      "cell_type": "markdown",
      "source": [
        "#### Because we will identify customers/departments by their CustomerId/DepartmentId there is no need for the \"Customer Lname\" \"Customer Fname\" and \"Department Name\" columns."
      ],
      "metadata": {
        "id": "yWO_QinNAB1A"
      }
    },
    {
      "cell_type": "code",
      "execution_count": null,
      "metadata": {
        "id": "oRIwiVRPBw-z",
        "colab": {
          "base_uri": "https://localhost:8080/"
        },
        "outputId": "223f74ec-cb35-4b95-9b64-bdbdbc51cf28"
      },
      "outputs": [
        {
          "output_type": "stream",
          "name": "stdout",
          "text": [
            "[0]\n"
          ]
        }
      ],
      "source": [
        "print(pd.unique(df['Product Status'])) # only contains zeros. no other unique values\n",
        "# below are the columns in the data which are irrelevant. It contains no information \n",
        "irrelevant_info_columns = [\"Customer Email\", \"Customer Fname\", \n",
        "                          \"Customer Password\", \"Department Name\", \"Product Image\", \"Product Status\", \"Customer Street\", \"shipping date (DateOrders)\", \"order date (DateOrders)\"]"
      ]
    },
    {
      "cell_type": "code",
      "execution_count": null,
      "metadata": {
        "colab": {
          "base_uri": "https://localhost:8080/"
        },
        "id": "PW6b7hrfCBWh",
        "outputId": "03809e00-97eb-4fe6-945b-e4f2388dbaf9"
      },
      "outputs": [
        {
          "output_type": "stream",
          "name": "stdout",
          "text": [
            "<class 'pandas.core.frame.DataFrame'>\n",
            "RangeIndex: 180519 entries, 0 to 180518\n",
            "Data columns (total 40 columns):\n",
            " #   Column                         Non-Null Count   Dtype  \n",
            "---  ------                         --------------   -----  \n",
            " 0   Type                           180519 non-null  object \n",
            " 1   Days for shipping (real)       180519 non-null  int64  \n",
            " 2   Days for shipment (scheduled)  180519 non-null  int64  \n",
            " 3   Benefit per order              180519 non-null  float64\n",
            " 4   Sales per customer             180519 non-null  float64\n",
            " 5   Delivery Status                180519 non-null  object \n",
            " 6   Late_delivery_risk             180519 non-null  int64  \n",
            " 7   Category Id                    180519 non-null  int64  \n",
            " 8   Category Name                  180519 non-null  object \n",
            " 9   Customer City                  180519 non-null  object \n",
            " 10  Customer Country               180519 non-null  object \n",
            " 11  Customer Id                    180519 non-null  int64  \n",
            " 12  Customer Segment               180519 non-null  object \n",
            " 13  Customer State                 180519 non-null  object \n",
            " 14  Department Id                  180519 non-null  int64  \n",
            " 15  Latitude                       180519 non-null  float64\n",
            " 16  Longitude                      180519 non-null  float64\n",
            " 17  Market                         180519 non-null  object \n",
            " 18  Order City                     180519 non-null  object \n",
            " 19  Order Country                  180519 non-null  object \n",
            " 20  Order Customer Id              180519 non-null  int64  \n",
            " 21  Order Id                       180519 non-null  int64  \n",
            " 22  Order Item Cardprod Id         180519 non-null  int64  \n",
            " 23  Order Item Discount            180519 non-null  float64\n",
            " 24  Order Item Discount Rate       180519 non-null  float64\n",
            " 25  Order Item Id                  180519 non-null  int64  \n",
            " 26  Order Item Product Price       180519 non-null  float64\n",
            " 27  Order Item Profit Ratio        180519 non-null  float64\n",
            " 28  Order Item Quantity            180519 non-null  int64  \n",
            " 29  Sales                          180519 non-null  float64\n",
            " 30  Order Item Total               180519 non-null  float64\n",
            " 31  Order Profit Per Order         180519 non-null  float64\n",
            " 32  Order Region                   180519 non-null  object \n",
            " 33  Order State                    180519 non-null  object \n",
            " 34  Order Status                   180519 non-null  object \n",
            " 35  Product Card Id                180519 non-null  int64  \n",
            " 36  Product Category Id            180519 non-null  int64  \n",
            " 37  Product Name                   180519 non-null  object \n",
            " 38  Product Price                  180519 non-null  float64\n",
            " 39  Shipping Mode                  180519 non-null  object \n",
            "dtypes: float64(12), int64(13), object(15)\n",
            "memory usage: 55.1+ MB\n",
            "None\n"
          ]
        }
      ],
      "source": [
        "df = df.drop(columns = irrelevant_info_columns, axis=1)\n",
        "print(df.info())"
      ]
    },
    {
      "cell_type": "code",
      "execution_count": null,
      "metadata": {
        "colab": {
          "base_uri": "https://localhost:8080/"
        },
        "id": "GO7VZIrNGHQy",
        "outputId": "ba44d6c0-fa40-4a92-be43-aab219cd3e0d"
      },
      "outputs": [
        {
          "output_type": "stream",
          "name": "stdout",
          "text": [
            "Benefit per order and Order Profit Per Order are the same\n",
            "Sales per customer and Order Item Total are the same\n",
            "Category Id and Product Category Id are the same\n",
            "Customer Id and Order Customer Id are the same\n",
            "Order Item Cardprod Id and Product Card Id are the same\n",
            "Order Item Product Price and Product Price are the same\n"
          ]
        }
      ],
      "source": [
        "def check_duplicate_columns(dataframe_test):\n",
        "    columns_names = []\n",
        "    \n",
        "    for ii in list(combinations(dataframe_test.columns, 2)):\n",
        "        if np.all(dataframe_test[ii[0]] == dataframe_test[ii[1]]):\n",
        "            columns_names.append(ii)\n",
        "            print(\"{} and {} are the same\".format(*ii))\n",
        "    \n",
        "    return columns_names\n",
        "\n",
        "                \n",
        "redundancies = check_duplicate_columns(df)"
      ]
    },
    {
      "cell_type": "markdown",
      "source": [
        "Hence, we are removing one of the columns which are exactly the same. The removed columns are\n",
        "**Order Profit Per Order, Order Item Total, Product Category Id, Order Customer Id, Order Item Cardprod Id, Order Item Product Price**"
      ],
      "metadata": {
        "id": "eyCO1kQEAoLp"
      }
    },
    {
      "cell_type": "code",
      "execution_count": null,
      "metadata": {
        "colab": {
          "base_uri": "https://localhost:8080/"
        },
        "id": "hDS7Ha5cGJkl",
        "outputId": "23fb9d54-452a-4cad-c860-b7af155de2cc"
      },
      "outputs": [
        {
          "output_type": "stream",
          "name": "stdout",
          "text": [
            "<class 'pandas.core.frame.DataFrame'>\n",
            "RangeIndex: 180519 entries, 0 to 180518\n",
            "Data columns (total 34 columns):\n",
            " #   Column                         Non-Null Count   Dtype  \n",
            "---  ------                         --------------   -----  \n",
            " 0   Type                           180519 non-null  object \n",
            " 1   Days for shipping (real)       180519 non-null  int64  \n",
            " 2   Days for shipment (scheduled)  180519 non-null  int64  \n",
            " 3   Benefit per order              180519 non-null  float64\n",
            " 4   Sales per customer             180519 non-null  float64\n",
            " 5   Delivery Status                180519 non-null  object \n",
            " 6   Late_delivery_risk             180519 non-null  int64  \n",
            " 7   Category Id                    180519 non-null  int64  \n",
            " 8   Category Name                  180519 non-null  object \n",
            " 9   Customer City                  180519 non-null  object \n",
            " 10  Customer Country               180519 non-null  object \n",
            " 11  Customer Id                    180519 non-null  int64  \n",
            " 12  Customer Segment               180519 non-null  object \n",
            " 13  Customer State                 180519 non-null  object \n",
            " 14  Department Id                  180519 non-null  int64  \n",
            " 15  Latitude                       180519 non-null  float64\n",
            " 16  Longitude                      180519 non-null  float64\n",
            " 17  Market                         180519 non-null  object \n",
            " 18  Order City                     180519 non-null  object \n",
            " 19  Order Country                  180519 non-null  object \n",
            " 20  Order Id                       180519 non-null  int64  \n",
            " 21  Order Item Discount            180519 non-null  float64\n",
            " 22  Order Item Discount Rate       180519 non-null  float64\n",
            " 23  Order Item Id                  180519 non-null  int64  \n",
            " 24  Order Item Profit Ratio        180519 non-null  float64\n",
            " 25  Order Item Quantity            180519 non-null  int64  \n",
            " 26  Sales                          180519 non-null  float64\n",
            " 27  Order Region                   180519 non-null  object \n",
            " 28  Order State                    180519 non-null  object \n",
            " 29  Order Status                   180519 non-null  object \n",
            " 30  Product Card Id                180519 non-null  int64  \n",
            " 31  Product Name                   180519 non-null  object \n",
            " 32  Product Price                  180519 non-null  float64\n",
            " 33  Shipping Mode                  180519 non-null  object \n",
            "dtypes: float64(9), int64(10), object(15)\n",
            "memory usage: 46.8+ MB\n",
            "None\n"
          ]
        }
      ],
      "source": [
        "duplicate_cols_to_remove = [\"Order Profit Per Order\", \"Order Item Total\", \"Product Category Id\", \n",
        "                            \"Order Customer Id\", \"Order Item Cardprod Id\", \"Order Item Product Price\"]\n",
        "df = df.drop(columns = duplicate_cols_to_remove, axis=1)\n",
        "print(df.info())"
      ]
    },
    {
      "cell_type": "code",
      "execution_count": null,
      "metadata": {
        "colab": {
          "base_uri": "https://localhost:8080/",
          "height": 925
        },
        "id": "5Ldwlf7OCZfu",
        "outputId": "811db2ee-a11f-441a-a465-64ae24ef97a5"
      },
      "outputs": [
        {
          "output_type": "stream",
          "name": "stdout",
          "text": [
            "                     0\n",
            "CANCELED          3692\n",
            "CLOSED           19616\n",
            "COMPLETE         59491\n",
            "ON_HOLD           9804\n",
            "PAYMENT_REVIEW    1893\n",
            "PENDING          20227\n",
            "PENDING_PAYMENT  39832\n",
            "PROCESSING       21902\n",
            "SUSPECTED_FRAUD   4062\n",
            "['CANCELED' 'CLOSED' 'COMPLETE' 'ON_HOLD' 'PAYMENT_REVIEW' 'PENDING'\n",
            " 'PENDING_PAYMENT' 'PROCESSING' 'SUSPECTED_FRAUD'] [ 3692 19616 59491  9804  1893 20227 39832 21902  4062]\n"
          ]
        },
        {
          "output_type": "execute_result",
          "data": {
            "text/plain": [
              "([<matplotlib.patches.Wedge at 0x7fd50a849970>,\n",
              "  <matplotlib.patches.Wedge at 0x7fd50a849e20>,\n",
              "  <matplotlib.patches.Wedge at 0x7fd50a8164f0>,\n",
              "  <matplotlib.patches.Wedge at 0x7fd50a816b80>,\n",
              "  <matplotlib.patches.Wedge at 0x7fd50a224250>,\n",
              "  <matplotlib.patches.Wedge at 0x7fd50a2248e0>,\n",
              "  <matplotlib.patches.Wedge at 0x7fd50a224f70>,\n",
              "  <matplotlib.patches.Wedge at 0x7fd50a212640>,\n",
              "  <matplotlib.patches.Wedge at 0x7fd50a212cd0>],\n",
              " [Text(1.0977301846479284, 0.07062890139896982, 'CANCELED'),\n",
              "  Text(0.9807828709815739, 0.49806120104776447, 'CLOSED'),\n",
              "  Text(-0.29954403608977603, 1.0584296719400148, 'COMPLETE'),\n",
              "  Text(-1.095641260962441, 0.09782753843694757, 'ON_HOLD'),\n",
              "  Text(-1.0927956736438185, -0.12568856616794197, 'PAYMENT_REVIEW'),\n",
              "  Text(-0.9656205515140237, -0.5268557207564067, 'PENDING'),\n",
              "  Text(-0.02872151174594294, -1.0996249700525302, 'PENDING_PAYMENT'),\n",
              "  Text(0.9532064688139192, -0.5489967466308876, 'PROCESSING'),\n",
              "  Text(1.097252635755152, -0.0776959029059588, 'SUSPECTED_FRAUD')],\n",
              " [Text(0.5987619188988699, 0.03852485530852899, '2.05%'),\n",
              "  Text(0.5349724750808584, 0.2716697460260533, '10.87%'),\n",
              "  Text(-0.1633876560489687, 0.5773252756036443, '32.96%'),\n",
              "  Text(-0.5976225059795132, 0.0533604755110623, '5.43%'),\n",
              "  Text(-0.5960703674420827, -0.06855739972796834, '1.05%'),\n",
              "  Text(-0.5267021190076492, -0.28737584768531277, '11.20%'),\n",
              "  Text(-0.015666279134150692, -0.599795438210471, '22.07%'),\n",
              "  Text(0.5199308011712286, -0.29945277088957506, '12.13%'),\n",
              "  Text(0.5985014376846283, -0.04237958340325026, '2.25%')])"
            ]
          },
          "metadata": {},
          "execution_count": 13
        },
        {
          "output_type": "display_data",
          "data": {
            "text/plain": [
              "<Figure size 432x288 with 1 Axes>"
            ],
            "image/png": "[encoded data removed]"
          },
          "metadata": {}
        }
      ],
      "source": [
        "subj_labels, subj_counts = np.unique(df['Order Status'], return_counts = True)\n",
        "print(pd.DataFrame(subj_counts, subj_labels))\n",
        "\n",
        "print(subj_labels, subj_counts)\n",
        "\n",
        "plt.pie(subj_counts, labels = subj_labels, autopct = '%.2f%%')"
      ]
    },
    {
      "cell_type": "markdown",
      "source": [
        "### Using Label encoder all the column with datatype as object is been transformed\n",
        "**Delivery Status, Category Name, Customer City, Customer Country, Customer Segment, Customer State, Market, Order City, Order Country, Order Region, Order State, Product Name, Shipping Mode, Type**"
      ],
      "metadata": {
        "id": "PLxS6cZPBrvc"
      }
    },
    {
      "cell_type": "code",
      "execution_count": null,
      "metadata": {
        "id": "IRXQ7uoIFwUb"
      },
      "outputs": [],
      "source": [
        "le = preprocessing.LabelEncoder()\n",
        "df['Delivery Status'] = le.fit_transform(df['Delivery Status'])\n",
        "df['Category Name'] = le.fit_transform(df['Category Name'])\n",
        "df['Customer City'] = le.fit_transform(df['Customer City'])\n",
        "df['Customer Country'] = le.fit_transform(df['Customer Country'])\n",
        "df['Customer Segment'] = le.fit_transform(df['Customer Segment'])\n",
        "df['Customer State'] = le.fit_transform(df['Customer State'])\n",
        "df['Market'] = le.fit_transform(df['Market'])\n",
        "df['Order City'] = le.fit_transform(df['Order City'])\n",
        "df['Order Country'] = le.fit_transform(df['Order Country'])\n",
        "df['Order Region'] = le.fit_transform(df['Order Region'])\n",
        "df['Order State'] = le.fit_transform(df['Order State'])\n",
        "df['Product Name'] = le.fit_transform(df['Product Name'])\n",
        "df['Shipping Mode'] = le.fit_transform(df['Shipping Mode'])\n",
        "df['Type'] = le.fit_transform(df['Type'])"
      ]
    },
    {
      "cell_type": "code",
      "execution_count": null,
      "metadata": {
        "colab": {
          "base_uri": "https://localhost:8080/",
          "height": 283
        },
        "id": "k_hrCRaNGsVk",
        "outputId": "bbb95c37-a06c-4e17-99af-b4e78f305e3a"
      },
      "outputs": [
        {
          "output_type": "stream",
          "name": "stdout",
          "text": [
            "[0 1] [176457   4062]\n"
          ]
        },
        {
          "output_type": "execute_result",
          "data": {
            "text/plain": [
              "<matplotlib.legend.Legend at 0x7fd5099ef610>"
            ]
          },
          "metadata": {},
          "execution_count": 15
        },
        {
          "output_type": "display_data",
          "data": {
            "text/plain": [
              "<Figure size 432x288 with 1 Axes>"
            ],
            "image/png": "[encoded data removed]"
          },
          "metadata": {}
        }
      ],
      "source": [
        "df['Order Status'] = df['Order Status'].replace(['CANCELED', 'CLOSED', 'COMPLETE', 'ON_HOLD', 'PAYMENT_REVIEW', 'PENDING',\n",
        " 'PENDING_PAYMENT', 'PROCESSING', 'SUSPECTED_FRAUD'],\n",
        "                                        [0, 0, 0, 0, 0, 0, 0, 0, 1])\n",
        "new_subj_labels, new_subj_counts = np.unique(df['Order Status'], return_counts = True)\n",
        "print(new_subj_labels, new_subj_counts)\n",
        "myexplode = [0.05, 0.05]\n",
        "plt.pie(new_subj_counts, labels = new_subj_labels, explode = myexplode, autopct = '%.2f%%')\n",
        "plt.legend(['0: Not Fraud', '1: Suspected Fraud'])"
      ]
    },
    {
      "cell_type": "code",
      "execution_count": null,
      "metadata": {
        "colab": {
          "base_uri": "https://localhost:8080/"
        },
        "id": "Zv3L-3reG0tl",
        "outputId": "ae9f99c0-5ac6-45fd-9013-b98a92212c25"
      },
      "outputs": [
        {
          "output_type": "stream",
          "name": "stdout",
          "text": [
            "<class 'pandas.core.frame.DataFrame'>\n",
            "RangeIndex: 180519 entries, 0 to 180518\n",
            "Data columns (total 33 columns):\n",
            " #   Column                         Non-Null Count   Dtype  \n",
            "---  ------                         --------------   -----  \n",
            " 0   Type                           180519 non-null  int64  \n",
            " 1   Days for shipping (real)       180519 non-null  int64  \n",
            " 2   Days for shipment (scheduled)  180519 non-null  int64  \n",
            " 3   Benefit per order              180519 non-null  float64\n",
            " 4   Sales per customer             180519 non-null  float64\n",
            " 5   Delivery Status                180519 non-null  int64  \n",
            " 6   Late_delivery_risk             180519 non-null  int64  \n",
            " 7   Category Id                    180519 non-null  int64  \n",
            " 8   Category Name                  180519 non-null  int64  \n",
            " 9   Customer City                  180519 non-null  int64  \n",
            " 10  Customer Country               180519 non-null  int64  \n",
            " 11  Customer Id                    180519 non-null  int64  \n",
            " 12  Customer Segment               180519 non-null  int64  \n",
            " 13  Customer State                 180519 non-null  int64  \n",
            " 14  Department Id                  180519 non-null  int64  \n",
            " 15  Latitude                       180519 non-null  float64\n",
            " 16  Longitude                      180519 non-null  float64\n",
            " 17  Market                         180519 non-null  int64  \n",
            " 18  Order City                     180519 non-null  int64  \n",
            " 19  Order Country                  180519 non-null  int64  \n",
            " 20  Order Id                       180519 non-null  int64  \n",
            " 21  Order Item Discount            180519 non-null  float64\n",
            " 22  Order Item Discount Rate       180519 non-null  float64\n",
            " 23  Order Item Id                  180519 non-null  int64  \n",
            " 24  Order Item Profit Ratio        180519 non-null  float64\n",
            " 25  Order Item Quantity            180519 non-null  int64  \n",
            " 26  Sales                          180519 non-null  float64\n",
            " 27  Order Region                   180519 non-null  int64  \n",
            " 28  Order State                    180519 non-null  int64  \n",
            " 29  Product Card Id                180519 non-null  int64  \n",
            " 30  Product Name                   180519 non-null  int64  \n",
            " 31  Product Price                  180519 non-null  float64\n",
            " 32  Shipping Mode                  180519 non-null  int64  \n",
            "dtypes: float64(9), int64(24)\n",
            "memory usage: 45.4 MB\n"
          ]
        }
      ],
      "source": [
        "X = df.drop('Order Status', axis=1)\n",
        "Y = df['Order Status']\n",
        "X.info()\n"
      ]
    },
    {
      "cell_type": "code",
      "execution_count": null,
      "metadata": {
        "id": "jotUT8Hbv5Oa"
      },
      "outputs": [],
      "source": [
        "X_train,X_test,Y_train,Y_test = train_test_split(X,Y, test_size =0.3, random_state = 7)\n"
      ]
    },
    {
      "cell_type": "code",
      "execution_count": null,
      "metadata": {
        "id": "8gYQ70hECiOc"
      },
      "outputs": [],
      "source": [
        "# Normalizing numerical features so that each feature has mean 0 and variance 1\n",
        "\n",
        "scaler = StandardScaler()\n",
        "\n",
        "X_train = scaler.fit_transform(X_train)\n",
        "X_test = scaler.transform(X_test)\n"
      ]
    },
    {
      "cell_type": "markdown",
      "source": [
        "Function for Confusion matrix and ROC curve"
      ],
      "metadata": {
        "id": "9zXN6lro46HF"
      }
    },
    {
      "cell_type": "code",
      "source": [
        "def ML_model_training_testing(ML_model, X_train, Y_train, X_test, Y_test):\n",
        "    CrossValid_scores = cross_validate(ML_model, X_train, Y_train, cv=10, scoring='accuracy', return_train_score=True)\n",
        "\n",
        "    train_accuracy = np.mean(CrossValid_scores['train_score'])\n",
        "    cross_val_accuracy = np.mean(CrossValid_scores['test_score'])\n",
        "\n",
        "    print(f\"Train accuracy = {train_accuracy*100:.4f}\")\n",
        "    print(f\"Cross validation accuracy= {cross_val_accuracy*100:.4f}\")\n",
        "\n",
        "    # Train SVM classifier on the labelled dataset\n",
        "    ML_model.fit(X_train, Y_train)\n",
        "\n",
        "    #To plot confusion matrix and finding out precision,recall,accuracy and f1 score.\n",
        "    y_predict = ML_model.predict(X_test)\n",
        "    con_mat = confusion_matrix(Y_test, y_predict)\n",
        "    print(\"Confusion matrix\")\n",
        "    print(con_mat)\n",
        "    pre = precision_score(Y_test, y_predict)\n",
        "    rec = recall_score(Y_test, y_predict)\n",
        "    f1 = f1_score(Y_test, y_predict)\n",
        "    accu = accuracy_score(Y_test, y_predict)\n",
        "    print(f\"Precision = {pre*100}\")\n",
        "    print(f\"Accuracy = {accu*100}\")\n",
        "    print(f\"F1 Score = {f1*100}\")\n",
        "    print(f\"Recall = {rec*100}\")\n",
        "    \n",
        "    return ML_model, y_predict\n",
        "\n",
        "# Function to plot ROC curve\n",
        "def plotROCcurve(y_true, y_predict, classifier_name=\"\"):\n",
        "    fpr, tpr, thresh = roc_curve(y_true, y_predict)\n",
        "    roc_auc = auc(fpr, tpr)\n",
        "    plt.figure()\n",
        "    roc_display = RocCurveDisplay(fpr = fpr, tpr = tpr).plot(color = \"blue\", label = f\"ROC curve (area = {roc_auc:.4f})\")\n",
        "    plt.plot([0, 1], [0, 1], color = \"red\", lw = 2, linestyle = \"--\")\n",
        "    plt.xlim([0.0, 1.0])\n",
        "    plt.ylim([0.0, 1.05])\n",
        "    plt.xlabel(\"False Positive Rate\")\n",
        "    plt.ylabel(\"True Positive Rate\")\n",
        "    plt.title(\"ROC curve of \" + classifier_name +  \" Classifier\")\n",
        "    plt.legend(loc=\"lower right\")\n",
        "     "
      ],
      "metadata": {
        "id": "s11epz7YxQiz"
      },
      "execution_count": null,
      "outputs": []
    },
    {
      "cell_type": "markdown",
      "metadata": {
        "id": "H0-Lw8sAyRYN"
      },
      "source": [
        "### Random Forest "
      ]
    },
    {
      "cell_type": "markdown",
      "source": [
        "Random Forest Baseline model"
      ],
      "metadata": {
        "id": "9jwSCKegSpYM"
      }
    },
    {
      "cell_type": "code",
      "source": [
        "# Create an instance of the decision tree classifier\n",
        "clf_rfc = RandomForestClassifier()\n",
        "\n",
        "# Train the classifier on the training data\n",
        "clf_rfc.fit(X_train, Y_train)\n",
        "\n",
        "# Make predictions on the test set\n",
        "y_predict_rfc = clf_rfc.predict(X_test)\n",
        "\n",
        "# Evaluate the performance of the model\n",
        "recall = recall_score(Y_test, y_predict_rfc)\n",
        "print(\"Recall of the RFC classifier: \", recall )\n",
        "\n",
        "# Print the model parameters\n",
        "print(\"Model parameters: \", clf_rfc.get_params())\n"
      ],
      "metadata": {
        "colab": {
          "base_uri": "https://localhost:8080/"
        },
        "id": "FtNmw9YXaFdn",
        "outputId": "532369f6-80fc-4653-a055-882f95175c60"
      },
      "execution_count": null,
      "outputs": [
        {
          "output_type": "stream",
          "name": "stdout",
          "text": [
            "Recall of the RFC classifier:  0.7958847736625514\n",
            "Model parameters:  {'bootstrap': True, 'ccp_alpha': 0.0, 'class_weight': None, 'criterion': 'gini', 'max_depth': None, 'max_features': 'auto', 'max_leaf_nodes': None, 'max_samples': None, 'min_impurity_decrease': 0.0, 'min_samples_leaf': 1, 'min_samples_split': 2, 'min_weight_fraction_leaf': 0.0, 'n_estimators': 100, 'n_jobs': None, 'oob_score': False, 'random_state': None, 'verbose': 0, 'warm_start': False}\n"
          ]
        }
      ]
    },
    {
      "cell_type": "markdown",
      "metadata": {
        "id": "wZxbxL6L6gkM"
      },
      "source": [
        "### Random Forest Hypereparameter Tuning"
      ]
    },
    {
      "cell_type": "code",
      "source": [
        "# Define the Random Forest classifier\n",
        "rf = RandomForestClassifier()\n",
        "\n",
        "# Define the parameters for the GridSearchCV\n",
        "parameters = {'n_estimators': [50,100,150,250,300,350],\n",
        "              'min_samples_split': [2, 6, 10],\n",
        "              'min_samples_leaf': [1, 3, 4],\n",
        "              'max_features': ['auto'],\n",
        "              'max_depth':[int(x) for x in np.linspace(10, 120, num = 12)]}\n",
        "\n",
        "# Create the GridSearchCV object\n",
        "grid_search = GridSearchCV(rf, parameters, scoring='recall')\n",
        "\n",
        "# fit the GridSearchCV object to the data\n",
        "grid_search.fit(X_train, Y_train)\n",
        "\n",
        "# print the best parameters and the best recall score\n",
        "print(\"Best parameters: \", grid_search.best_params_)\n",
        "print(\"Best recall score: \", grid_search.best_score_)\n",
        "\n",
        "\n",
        "# evaluate the model on the test set\n",
        "y_pred = grid_search.predict(X_test)\n",
        "test_recall = recall_score(Y_test, y_pred)\n",
        "print(\"Test recall score: \", test_recall)"
      ],
      "metadata": {
        "colab": {
          "base_uri": "https://localhost:8080/"
        },
        "id": "18JHl22NRd3u",
        "outputId": "01a8ec42-e7d4-4a77-8817-cea99d904fee"
      },
      "execution_count": null,
      "outputs": [
        {
          "output_type": "stream",
          "name": "stdout",
          "text": [
            "Best parameters:  {'max_depth': 120, 'max_features': 'auto', 'min_samples_leaf': 1, 'min_samples_split': 2, 'n_estimators': 300}\n",
            "Best recall score:  0.7695939321061881\n",
            "Test recall score:  0.8518518518518519\n"
          ]
        }
      ]
    },
    {
      "cell_type": "code",
      "source": [
        "# Calculate the recall score\n",
        "recall = recall_score(Y_test, y_pred)\n",
        "print(\"Recall Score:\", recall)\n",
        "\n",
        "# Compare the training and test recall scores\n",
        "train_recall = recall_score(Y_train, grid_search.predict(X_train))\n",
        "print(\"Training Recall Score:\", train_recall)"
      ],
      "metadata": {
        "colab": {
          "base_uri": "https://localhost:8080/"
        },
        "id": "-Taf2qmSNr_z",
        "outputId": "6a51d81d-fccc-4252-b337-de5ac2a805be"
      },
      "execution_count": null,
      "outputs": [
        {
          "output_type": "stream",
          "name": "stdout",
          "text": [
            "Recall Score: 0.8518518518518519\n",
            "Training Recall Score: 1.0\n"
          ]
        }
      ]
    },
    {
      "cell_type": "markdown",
      "metadata": {
        "id": "YeD5bQsp5xSf"
      },
      "source": [
        "### Random Forest With SMOTE"
      ]
    },
    {
      "cell_type": "code",
      "source": [
        "# Implementing Random Forest Classifier\n",
        "# Tuning the random forest parameter 'n_estimators' and implementing cross-validation using Grid Search\n",
        "model = Pipeline([\n",
        "        ('balancing', SMOTE(random_state = 101)),\n",
        "        ('classification', RandomForestClassifier(criterion='entropy', max_features='auto', random_state=1) )\n",
        "    ])\n",
        "grid_param = {'classification__n_estimators': [100,150, 200, 250, 300],\n",
        "              'min_samples_split': [2, 6, 10],\n",
        "              'min_samples_leaf': [1, 3, 4],\n",
        "              'max_depth':120} \n",
        "              \n",
        "gd_sr = GridSearchCV(estimator=model, param_grid=grid_param, scoring='recall', cv=5)\n",
        "\n",
        "gd_sr.fit(X_train, Y_train)\n",
        "\n",
        "featimp = pd.Series(gd_sr.best_estimator_.named_steps[\"classification\"].feature_importances_, index=list(X)).sort_values(ascending=False) # Getting feature importances list for the best model\n",
        "print(featimp)\n",
        "\n",
        "# print the best parameters and the best recall score\n",
        "print(\"Best parameters: \", grid_search.best_params_)\n",
        "print(\"Best recall score: \", grid_search.best_score_) # Mean cross-validated score of the best_estimator\n",
        "\n",
        "\n",
        "# evaluate the model on the test set\n",
        "y_pred = gd_sr.predict(X_test)\n",
        "test_recall = recall_score(Y_test, y_pred)\n",
        "print(\"Test recall score: \", test_recall)"
      ],
      "metadata": {
        "colab": {
          "base_uri": "https://localhost:8080/"
        },
        "id": "wPCs7RREWIIk",
        "outputId": "41f842b6-4e51-497d-b64d-9ec44040abed"
      },
      "execution_count": null,
      "outputs": [
        {
          "output_type": "stream",
          "name": "stdout",
          "text": [
            "Delivery Status                  0.437708\n",
            "Type                             0.273321\n",
            "Late_delivery_risk               0.119655\n",
            "Days for shipping (real)         0.033609\n",
            "Customer Segment                 0.012317\n",
            "Shipping Mode                    0.010081\n",
            "Order Item Profit Ratio          0.009783\n",
            "Days for shipment (scheduled)    0.008944\n",
            "Order Item Discount Rate         0.006864\n",
            "Order Item Discount              0.005440\n",
            "Customer Id                      0.005212\n",
            "Order Item Quantity              0.005195\n",
            "Latitude                         0.004675\n",
            "Order City                       0.004639\n",
            "Order State                      0.004617\n",
            "Order Country                    0.004526\n",
            "Longitude                        0.004267\n",
            "Order Item Id                    0.004050\n",
            "Order Id                         0.004028\n",
            "Order Region                     0.003913\n",
            "Department Id                    0.003699\n",
            "Customer State                   0.003556\n",
            "Customer City                    0.003550\n",
            "Category Id                      0.003519\n",
            "Sales                            0.003117\n",
            "Product Card Id                  0.003114\n",
            "Market                           0.003091\n",
            "Sales per customer               0.002916\n",
            "Benefit per order                0.002683\n",
            "Product Price                    0.002585\n",
            "Category Name                    0.002478\n",
            "Product Name                     0.002378\n",
            "Customer Country                 0.000468\n",
            "dtype: float64\n",
            "Best parameters:  {'max_depth': 120, 'max_features': 'auto', 'min_samples_leaf': 1, 'min_samples_split': 2, 'n_estimators': 300}\n",
            "Best recall score:  0.7695939321061881\n",
            "Test recall score:  0.9275720164609054\n"
          ]
        }
      ]
    },
    {
      "cell_type": "code",
      "source": [
        "# Calculate the recall score\n",
        "recall = recall_score(Y_test, y_pred)\n",
        "print(\"Recall Score:\", recall)\n",
        "\n",
        "# Compare the training and test recall scores\n",
        "train_recall = recall_score(Y_train, gd_sr.predict(X_train))\n",
        "print(\"Training Recall Score:\", train_recall)"
      ],
      "metadata": {
        "colab": {
          "base_uri": "https://localhost:8080/"
        },
        "id": "d9uh7ODM3bd1",
        "outputId": "d8145813-3f86-4ea5-fd51-7f783649748b"
      },
      "execution_count": null,
      "outputs": [
        {
          "output_type": "stream",
          "name": "stdout",
          "text": [
            "Recall Score: 0.9275720164609054\n",
            "Training Recall Score: 1.0\n"
          ]
        }
      ]
    },
    {
      "cell_type": "markdown",
      "source": [
        "### Random Forest Confusion matrix and ROC"
      ],
      "metadata": {
        "id": "01BvqZSZ5nLf"
      }
    },
    {
      "cell_type": "code",
      "source": [
        "clf_rf = RandomForestClassifier(n_estimators = 300, min_samples_leaf = 1, min_samples_split = 2, )\n",
        "trained_ada_model, y_predict_rf = ML_model_training_testing(clf_rf, X_train, Y_train, X_test, Y_test)\n",
        "plotROCcurve(Y_test, y_predict_rf, classifier_name=\"rf\")"
      ],
      "metadata": {
        "colab": {
          "base_uri": "https://localhost:8080/",
          "height": 469
        },
        "id": "D7vk1RNPnhND",
        "outputId": "76c2daa0-0b8b-45ff-a007-2bea208f1d15"
      },
      "execution_count": null,
      "outputs": [
        {
          "output_type": "stream",
          "name": "stdout",
          "text": [
            "Train accuracy = 100.0000\n",
            "Cross validation accuracy= 99.3440\n",
            "Confusion matrix\n",
            "[[52827   114]\n",
            " [  198  1017]]\n",
            "Precision = 89.92042440318302\n",
            "Accuracy = 99.42388654996677\n",
            "F1 Score = 86.70076726342711\n",
            "Recall = 83.7037037037037\n"
          ]
        },
        {
          "output_type": "display_data",
          "data": {
            "text/plain": [
              "<Figure size 432x288 with 0 Axes>"
            ]
          },
          "metadata": {}
        },
        {
          "output_type": "display_data",
          "data": {
            "text/plain": [
              "<Figure size 432x288 with 1 Axes>"
            ],
            "image/png": "[encoded data removed]"
          },
          "metadata": {
            "needs_background": "light"
          }
        }
      ]
    },
    {
      "cell_type": "markdown",
      "source": [
        "\n",
        "# **Recall scores of RFC model**\n",
        "\n",
        "*   RFC Baseline model: 0.79\n",
        "*   RFC Hyperparameter tuned model: 0.85\n",
        "*   RFC SMOTE model: 0.67\n",
        "\n",
        "# **Precision, Recall, Accuracy and F1 scores of RFC model**\n",
        "*   Precision = 89.92\n",
        "*   Accuracy = 99.42\n",
        "*   F1 Score = 86.70\n",
        "*   Recall = 83.70\n",
        "\n",
        "\n",
        "\n"
      ],
      "metadata": {
        "id": "fyTESX3Yg4DA"
      }
    },
    {
      "cell_type": "markdown",
      "source": [
        "##AdaBoost"
      ],
      "metadata": {
        "id": "01tlrBcHz_HY"
      }
    },
    {
      "cell_type": "markdown",
      "source": [
        "### AdaBoost Baseline model"
      ],
      "metadata": {
        "id": "yZ9oUrz90CRu"
      }
    },
    {
      "cell_type": "code",
      "source": [
        "# Initialize the AdaBoost classifier\n",
        "ada = AdaBoostClassifier()\n",
        "\n",
        "# Fit the classifier on the training data\n",
        "ada.fit(X_train, Y_train)\n",
        "\n",
        "# Make predictions on the test data\n",
        "y_pred = ada.predict(X_test)\n",
        "\n",
        "# Compute the recall score\n",
        "recall = recall_score(Y_test, y_pred)\n",
        "\n",
        "print(\"Recall of the ADA classifier:\", recall)\n",
        "\n",
        "# Print the parameters\n",
        "print(\"Model parameters: \", ada.get_params())\n"
      ],
      "metadata": {
        "colab": {
          "base_uri": "https://localhost:8080/"
        },
        "id": "mqXcBhLS0GKW",
        "outputId": "beb03a41-c8e1-4279-e550-49160a3e547e"
      },
      "execution_count": null,
      "outputs": [
        {
          "output_type": "stream",
          "name": "stdout",
          "text": [
            "Recall of the ADA classifier: 0.6625514403292181\n",
            "Model parameters:  {'algorithm': 'SAMME.R', 'base_estimator': None, 'learning_rate': 1.0, 'n_estimators': 50, 'random_state': None}\n"
          ]
        }
      ]
    },
    {
      "cell_type": "markdown",
      "source": [
        "###AdaBoost Hyperparameter tuning"
      ],
      "metadata": {
        "id": "gp6dHYoQmY78"
      }
    },
    {
      "cell_type": "code",
      "source": [
        "# Define the AdaBoost classifier\n",
        "ada = AdaBoostClassifier()\n",
        "\n",
        "# Define the parameters for the GridSearchCV\n",
        "parameters = {'n_estimators': [50, 100, 150], 'learning_rate': [0.1, 0.5, 1]}\n",
        "\n",
        "# Define the recall scoring method\n",
        "recall_scorer = make_scorer(recall_score)\n",
        "\n",
        "# Perform the GridSearchCV\n",
        "grid_search = GridSearchCV(ada, parameters, scoring=recall_scorer)\n",
        "grid_search.fit(X_train, Y_train)\n",
        "\n",
        "# Print the best parameters and the best recall score\n",
        "print(\"Best parameters: \", grid_search.best_params_)\n",
        "print(\"Best recall score: \", grid_search.best_score_)\n",
        "\n",
        "# Fit to the data\n",
        "ada.fit(X_train, Y_train)\n",
        "\n",
        "# Predict the labels of the test data\n",
        "y_pred = ada.predict(X_test)\n",
        "\n",
        "# Print the recall score\n",
        "print(\"Recall Score:\", recall_score(Y_test, y_pred))"
      ],
      "metadata": {
        "colab": {
          "base_uri": "https://localhost:8080/"
        },
        "id": "H05OZ5O1Fsj1",
        "outputId": "c5fe470c-d409-42c5-cb73-4bcec0fb5320"
      },
      "execution_count": null,
      "outputs": [
        {
          "output_type": "stream",
          "name": "stdout",
          "text": [
            "Best parameters:  {'learning_rate': 0.1, 'n_estimators': 50}\n",
            "Best recall score:  0.793110103906515\n",
            "Recall Score: 0.6617283950617284\n"
          ]
        }
      ]
    },
    {
      "cell_type": "code",
      "source": [
        "# Make predictions on the test data\n",
        "y_pred = ada.predict(X_test)\n",
        "\n",
        "# Calculate the recall score\n",
        "recall = recall_score(Y_test, y_pred)\n",
        "print(\"Recall Score:\", recall)\n",
        "\n",
        "# Compare the training and test recall scores\n",
        "train_recall = recall_score(Y_train, ada.predict(X_train))\n",
        "print(\"Training Recall Score:\", train_recall)"
      ],
      "metadata": {
        "colab": {
          "base_uri": "https://localhost:8080/"
        },
        "id": "avDEbEIxNRqn",
        "outputId": "51081b63-bd60-449b-cce6-56a48cdc436d"
      },
      "execution_count": null,
      "outputs": [
        {
          "output_type": "stream",
          "name": "stdout",
          "text": [
            "Recall Score: 0.6617283950617284\n",
            "Training Recall Score: 0.684931506849315\n"
          ]
        }
      ]
    },
    {
      "cell_type": "markdown",
      "source": [
        "### AdaBoost with SMOTE"
      ],
      "metadata": {
        "id": "d_h8Tueanw3I"
      }
    },
    {
      "cell_type": "code",
      "source": [
        "# Implementing Adaboost Classifier\n",
        "# Tuning the parameter 'n_estimators' and implementing cross-validation using Grid Search\n",
        "model = Pipeline([\n",
        "        ('balancing', SMOTE(random_state = 101)),\n",
        "        ('classification', AdaBoostClassifier(random_state=1))\n",
        "    ])\n",
        "grid_param = {'classification__n_estimators': [50,100,150,200]}\n",
        "\n",
        "ad_gd_sr = GridSearchCV(estimator=model, param_grid=grid_param, scoring='recall', cv=5)\n",
        "\n",
        "ad_gd_sr.fit(X_train, Y_train)\n",
        "\n",
        "\n",
        "featimp = pd.Series(ad_gd_sr.best_estimator_.named_steps[\"classification\"].feature_importances_, index=list(X)).sort_values(ascending=False) # Getting feature importances list for the best model\n",
        "print(featimp)\n",
        "\n",
        "# print the best parameters and the best recall score\n",
        "print(\"Best parameters: \", ad_gd_sr.best_params_)\n",
        "print(\"Best recall score: \", ad_gd_sr.best_score_) # Mean cross-validated score of the best_estimator\n",
        "\n",
        "\n",
        "# evaluate the model on the test set\n",
        "y_pred = ad_gd_sr.predict(X_test)\n",
        "test_recall = recall_score(Y_test, y_pred)\n",
        "print(\"Test recall score: \", test_recall)"
      ],
      "metadata": {
        "colab": {
          "base_uri": "https://localhost:8080/"
        },
        "id": "iJv0khjb7k1W",
        "outputId": "1b530f7d-b537-46ea-d7c0-6820e1c193c1"
      },
      "execution_count": null,
      "outputs": [
        {
          "output_type": "stream",
          "name": "stdout",
          "text": [
            "{'classification__n_estimators': 50}\n",
            "0.9908685598002034\n",
            "Customer Segment                 0.26\n",
            "Days for shipping (real)         0.22\n",
            "Order Item Quantity              0.12\n",
            "Order Item Discount Rate         0.08\n",
            "Order Item Profit Ratio          0.04\n",
            "Sales                            0.04\n",
            "Delivery Status                  0.04\n",
            "Product Price                    0.04\n",
            "Category Id                      0.02\n",
            "Category Name                    0.02\n",
            "Order Region                     0.02\n",
            "Customer Id                      0.02\n",
            "Customer State                   0.02\n",
            "Latitude                         0.02\n",
            "Product Name                     0.02\n",
            "Order Item Id                    0.02\n",
            "Order State                      0.00\n",
            "Order Item Discount              0.00\n",
            "Product Card Id                  0.00\n",
            "Type                             0.00\n",
            "Longitude                        0.00\n",
            "Order Id                         0.00\n",
            "Order Country                    0.00\n",
            "Order City                       0.00\n",
            "Market                           0.00\n",
            "Department Id                    0.00\n",
            "Customer Country                 0.00\n",
            "Customer City                    0.00\n",
            "Late_delivery_risk               0.00\n",
            "Sales per customer               0.00\n",
            "Benefit per order                0.00\n",
            "Days for shipment (scheduled)    0.00\n",
            "Shipping Mode                    0.00\n",
            "dtype: float64\n",
            "Best parameters:  {'classification__n_estimators': 50}\n",
            "Best recall score:  0.9908685598002034\n",
            "Test recall score:  0.9975308641975309\n"
          ]
        }
      ]
    },
    {
      "cell_type": "code",
      "source": [
        "# Calculate the recall score\n",
        "recall = recall_score(Y_test, y_pred)\n",
        "print(\"Recall Score:\", recall)\n",
        "\n",
        "# Compare the training and test recall scores\n",
        "train_recall = recall_score(Y_train, ad_gd_sr.predict(X_train))\n",
        "print(\"Training Recall Score:\", train_recall)"
      ],
      "metadata": {
        "colab": {
          "base_uri": "https://localhost:8080/"
        },
        "id": "nobY6UGd9tcq",
        "outputId": "d9e9a927-a365-4801-d578-218d2e706f78"
      },
      "execution_count": null,
      "outputs": [
        {
          "output_type": "stream",
          "name": "stdout",
          "text": [
            "Recall Score: 0.9975308641975309\n",
            "Training Recall Score: 0.9964875307341061\n"
          ]
        }
      ]
    },
    {
      "cell_type": "markdown",
      "source": [
        "###AdaBoost Confusion matrix and ROC curve"
      ],
      "metadata": {
        "id": "AQ-v3N9X9OUS"
      }
    },
    {
      "cell_type": "code",
      "source": [
        "clf_ada = AdaBoostClassifier(n_estimators = 50, learning_rate = 0.1)\n",
        "trained_ada_model, y_predict_ada = ML_model_training_testing(clf_ada, X_train, Y_train, X_test, Y_test)\n",
        "plotROCcurve(Y_test, y_predict_ada, classifier_name=\"ada\")"
      ],
      "metadata": {
        "colab": {
          "base_uri": "https://localhost:8080/",
          "height": 469
        },
        "id": "SJSBhSv3zm3C",
        "outputId": "e8ea1b18-29bc-4754-9d81-52c70367ea1b"
      },
      "execution_count": null,
      "outputs": [
        {
          "output_type": "stream",
          "name": "stdout",
          "text": [
            "Train accuracy = 98.1332\n",
            "Cross validation accuracy= 97.9804\n",
            "Confusion matrix\n",
            "[[52156   785]\n",
            " [  233   982]]\n",
            "Precision = 55.57441992076967\n",
            "Accuracy = 98.12024521751975\n",
            "F1 Score = 65.86183769282361\n",
            "Recall = 80.82304526748972\n"
          ]
        },
        {
          "output_type": "display_data",
          "data": {
            "text/plain": [
              "<Figure size 432x288 with 0 Axes>"
            ]
          },
          "metadata": {}
        },
        {
          "output_type": "display_data",
          "data": {
            "text/plain": [
              "<Figure size 432x288 with 1 Axes>"
            ],
            "image/png": "[encoded data removed]"
          },
          "metadata": {
            "needs_background": "light"
          }
        }
      ]
    },
    {
      "cell_type": "markdown",
      "source": [
        "# **Recall scores of AdaBoost model**\n",
        "\n",
        "*   ADA Boost baseline model:0.66\n",
        "*   ADA Boost Hyperparameter model:0.79\n",
        "*   ADA Boost with SMOTE model:0.99\n",
        "\n",
        "# **Precision, Recall, Accuracy and F1 scores of AdaBoost model**\n",
        "*   Precision = 55.57\n",
        "*   Accuracy = 98.12\n",
        "*   F1 Score = 65.86\n",
        "*   Recall = 80.82\n",
        "\n",
        "\n",
        "\n"
      ],
      "metadata": {
        "id": "7Ah6XIY8iBwv"
      }
    },
    {
      "cell_type": "markdown",
      "source": [
        "##SUPPORT VECTOR CLASSIFIER"
      ],
      "metadata": {
        "id": "-VxWbiKsjT9L"
      }
    },
    {
      "cell_type": "markdown",
      "source": [
        "###SVC Baseline model"
      ],
      "metadata": {
        "id": "vFtkb_Rcjs0G"
      }
    },
    {
      "cell_type": "code",
      "source": [
        "# Initialize the SVC model\n",
        "clf_svc = SVC()\n",
        "\n",
        "# Traininig the classifier on the training data\n",
        "clf_svc.fit(X_train, Y_train)\n",
        "\n",
        "# Make predictions on the test set\n",
        "y_predict_svc = clf_svc.predict(X_test)\n",
        "\n",
        "# Evaluating the performance of the model\n",
        "recall = recall_score(Y_test, y_predict_svc)\n",
        "print(\"Recall of the SVC classifier: \", recall )\n",
        "\n",
        "# Print the model parameters\n",
        "print(\"Model parameters: \", clf_svc.get_params())"
      ],
      "metadata": {
        "colab": {
          "base_uri": "https://localhost:8080/"
        },
        "id": "f0Cc0er7ZT2W",
        "outputId": "10ca299c-a163-4460-c74f-368759d4a473"
      },
      "execution_count": null,
      "outputs": [
        {
          "output_type": "stream",
          "name": "stdout",
          "text": [
            "Recall of the SVC classifier:  0.297119341563786\n",
            "Model parameters:  {'C': 1.0, 'break_ties': False, 'cache_size': 200, 'class_weight': None, 'coef0': 0.0, 'decision_function_shape': 'ovr', 'degree': 3, 'gamma': 'scale', 'kernel': 'rbf', 'max_iter': -1, 'probability': False, 'random_state': None, 'shrinking': True, 'tol': 0.001, 'verbose': False}\n"
          ]
        }
      ]
    },
    {
      "cell_type": "markdown",
      "source": [
        "###SVC Hyperparameter tuning"
      ],
      "metadata": {
        "id": "6VCAD3AkjxFi"
      }
    },
    {
      "cell_type": "code",
      "source": [
        "# Define the parameter grid for hyperparameter tuning\n",
        "param_grid = {'C': [0.1, 1, 10],\n",
        "              'kernel': ['rbf','linear']}\n",
        "\n",
        "\n",
        "# Create the SVC object\n",
        "svc = SVC()\n",
        "\n",
        "# Create the GridSearchCV object\n",
        "grid_search = GridSearchCV(svc, param_grid, cv=5, scoring='recall')\n",
        "\n",
        "# Fit the GridSearchCV object to the data\n",
        "grid_search.fit(X_train, Y_train)\n",
        "\n",
        "# Print the best parameters and the best score\n",
        "print(\"Best Parameters:\", grid_search.best_params_)\n",
        "print(\"Best Score:\", grid_search.best_score_)\n",
        "\n",
        "# Use the best parameters to create a new SVC object\n",
        "svc = SVC(C=grid_search.best_params_['C'], kernel=grid_search.best_params_['kernel'])\n",
        "\n",
        "# Fit the SVC object to the data\n",
        "svc.fit(X_train, Y_train)\n",
        "\n",
        "# Use the SVC object to predict the labels of the test data\n",
        "y_pred = svc.predict(X_test)\n",
        "\n",
        "# Print the recall score\n",
        "print(\"Recall Score:\", recall_score(Y_test, y_pred))"
      ],
      "metadata": {
        "colab": {
          "base_uri": "https://localhost:8080/"
        },
        "id": "VqS4CpneMjZC",
        "outputId": "ec2ecc12-c660-4f11-d0ce-1d8f60e45273"
      },
      "execution_count": null,
      "outputs": [
        {
          "output_type": "stream",
          "name": "stdout",
          "text": [
            "Best Parameters: {'C': 10, 'kernel': 'rbf'}\n",
            "Best Score: 0.6122270526932445\n",
            "Recall Score: 0.6419753086419753\n"
          ]
        }
      ]
    },
    {
      "cell_type": "code",
      "source": [
        "# Calculate the recall score\n",
        "recall = recall_score(Y_test, y_pred)\n",
        "print(\"Recall Score:\", recall)\n",
        "\n",
        "# Compare the training and test recall scores\n",
        "train_recall = recall_score(Y_train, svc.predict(X_train))\n",
        "print(\"Training Recall Score:\", train_recall)"
      ],
      "metadata": {
        "colab": {
          "base_uri": "https://localhost:8080/"
        },
        "id": "Y7b75THaNPI7",
        "outputId": "a13398cd-b58e-43a8-8d28-db824ccbb7d2"
      },
      "execution_count": null,
      "outputs": [
        {
          "output_type": "stream",
          "name": "stdout",
          "text": [
            "Recall Score: 0.6419753086419753\n",
            "Training Recall Score: 0.8998946259220232\n"
          ]
        }
      ]
    },
    {
      "cell_type": "markdown",
      "source": [
        "###SVC SMOTE"
      ],
      "metadata": {
        "id": "m9Yi-ujiIjGD"
      }
    },
    {
      "cell_type": "code",
      "source": [
        "# Define the parameter grid for hyperparameter tuning\n",
        "param_grid = {'C': [0.1,1,10], 'kernel': [ 'rbf','linear']}\n",
        "\n",
        "# Create the SMOTE object\n",
        "sm = SMOTE()\n",
        "X_train, Y_train = sm.fit_resample(X_train, Y_train)\n",
        "\n",
        "# Create the SVC object\n",
        "svc = SVC()\n",
        "\n",
        "# Create the GridSearchCV object\n",
        "grid_search = GridSearchCV(svc, param_grid, cv=5, scoring='recall')\n",
        "\n",
        "# Fit the GridSearchCV object to the data\n",
        "grid_search.fit(X_train, Y_train)\n",
        "\n",
        "# Print the best parameters and the best score\n",
        "print(\"Best Parameters:\", grid_search.best_params_)\n",
        "print(\"Best Score:\", grid_search.best_score_)\n",
        "\n",
        "# Use the best parameters to create a new SVC object\n",
        "svc = SVC(C=grid_search.best_params_['C'], kernel=grid_search.best_params_['kernel'])\n",
        "\n",
        "# Fit the SVC object to the data\n",
        "svc.fit(X_train, Y_train)\n",
        "\n",
        "# Use the SVC object to predict the labels of the test data\n",
        "y_pred = svc.predict(X_test)\n",
        "\n",
        "# Print the recall score\n",
        "print(\"Recall Score:\", recall_score(Y_test, y_pred))"
      ],
      "metadata": {
        "colab": {
          "base_uri": "https://localhost:8080/"
        },
        "id": "35uFMplkrhfD",
        "outputId": "444b0d5c-aa8d-492e-e5ff-5b7f452e139b"
      },
      "execution_count": null,
      "outputs": [
        {
          "output_type": "stream",
          "name": "stdout",
          "text": [
            "Best Parameters: {'C': 10, 'kernel': 'rbf'}\n",
            "Best Score: 1.0\n",
            "Recall Score: 0.8098765432098766\n"
          ]
        }
      ]
    },
    {
      "cell_type": "code",
      "source": [
        "# Calculate the recall score\n",
        "recall = recall_score(Y_test, y_pred)\n",
        "print(\"Recall Score:\", recall)\n",
        "\n",
        "# Compare the training and test recall scores\n",
        "train_recall = recall_score(Y_train, svc.predict(X_train))\n",
        "print(\"Training Recall Score:\", train_recall)"
      ],
      "metadata": {
        "colab": {
          "base_uri": "https://localhost:8080/"
        },
        "id": "QM6JXyDpBCRZ",
        "outputId": "d685d103-74ae-4afd-d3a6-1ab9389b9dc7"
      },
      "execution_count": null,
      "outputs": [
        {
          "output_type": "stream",
          "name": "stdout",
          "text": [
            "Recall Score: 0.8098765432098766\n",
            "Training Recall Score: 1.0\n"
          ]
        }
      ]
    },
    {
      "cell_type": "markdown",
      "source": [
        "###SVC Confusion matrix and ROC"
      ],
      "metadata": {
        "id": "Fu_qhtMP_H9R"
      }
    },
    {
      "cell_type": "code",
      "source": [
        "clf_SVM = SVC(C = 10, kernel = 'rbf')\n",
        "trained_SVM_model, y_predict_SVM = ML_model_training_testing(clf_SVM, X_train, Y_train, X_test, Y_test)\n",
        "plotROCcurve(Y_test, y_predict_SVM, classifier_name=\"SVM\")"
      ],
      "metadata": {
        "colab": {
          "base_uri": "https://localhost:8080/",
          "height": 469
        },
        "id": "TozhXFXRq2B1",
        "outputId": "36a21bea-c943-4beb-a19b-054a4312d992"
      },
      "execution_count": null,
      "outputs": [
        {
          "output_type": "stream",
          "name": "stdout",
          "text": [
            "Train accuracy = 99.5529\n",
            "Cross validation accuracy= 98.3365\n",
            "Confusion matrix\n",
            "[[52511   430]\n",
            " [  435   780]]\n",
            "Precision = 64.46280991735537\n",
            "Accuracy = 98.40276239013221\n",
            "F1 Score = 64.3298969072165\n",
            "Recall = 64.19753086419753\n"
          ]
        },
        {
          "output_type": "display_data",
          "data": {
            "text/plain": [
              "<Figure size 432x288 with 0 Axes>"
            ]
          },
          "metadata": {}
        },
        {
          "output_type": "display_data",
          "data": {
            "text/plain": [
              "<Figure size 432x288 with 1 Axes>"
            ],
            "image/png": "[encoded data removed]"
          },
          "metadata": {
            "needs_background": "light"
          }
        }
      ]
    },
    {
      "cell_type": "markdown",
      "source": [
        "\n",
        "# **Recall scores of SVC model**\n",
        "\n",
        "*   SVC Baseline Model:O.29\n",
        "*   SVC Hyperparamater tuned Model:0.61\n",
        "*   SVC with SMOTE:0.80\n",
        "\n",
        "# **Precision, Recall, Accuracy and F1 scores of SVC model**\n",
        "*   Precision = 64.46\n",
        "*   Accuracy = 98.40\n",
        "*   F1 Score = 64.32\n",
        "*   Recall = 64.19\n",
        "\n",
        "\n",
        "\n",
        "\n",
        "\n",
        "\n",
        "\n",
        "\n",
        "\n",
        "\n"
      ],
      "metadata": {
        "id": "BAyZc5E0kXe1"
      }
    },
    {
      "cell_type": "markdown",
      "source": [
        "##XG BOOST"
      ],
      "metadata": {
        "id": "yMj7FAFn2F0H"
      }
    },
    {
      "cell_type": "markdown",
      "source": [
        "###XG Boost Baseline model"
      ],
      "metadata": {
        "id": "K5cJn9ewReja"
      }
    },
    {
      "cell_type": "code",
      "source": [
        "# Define the model\n",
        "model = xgb.XGBClassifier()\n",
        "\n",
        "# Train the model\n",
        "model.fit(X_train, Y_train)\n",
        "\n",
        "# Make predictions\n",
        "y_pred = model.predict(X_test)\n",
        "\n",
        "# Evaluate the model using recall score\n",
        "recall = recall_score(Y_test, y_pred)\n",
        "print(\"Recall score:\", recall)"
      ],
      "metadata": {
        "colab": {
          "base_uri": "https://localhost:8080/"
        },
        "id": "hXjFyBbhQdVT",
        "outputId": "aec11b70-789a-4e2b-df59-3596a6437d99"
      },
      "execution_count": null,
      "outputs": [
        {
          "output_type": "stream",
          "name": "stdout",
          "text": [
            "Recall score: 0.7300411522633745\n"
          ]
        }
      ]
    },
    {
      "cell_type": "markdown",
      "source": [
        "##XG Boost Hyperparameter Tuning."
      ],
      "metadata": {
        "id": "ngQuanbNQenB"
      }
    },
    {
      "cell_type": "code",
      "source": [
        "# define the model\n",
        "xgb_model = xgb.XGBClassifier()\n",
        "\n",
        "# define the parameter grid\n",
        "param_grid = {\n",
        "    'max_depth': [3, 5, 7],\n",
        "    'learning_rate': [0.1, 0.3, 0.5],\n",
        "    'n_estimators': [100, 200, 300]\n",
        "}\n",
        "\n",
        "# define the recall scoring metric\n",
        "recall_scorer = make_scorer(recall_score)\n",
        "\n",
        "# set up the GridSearchCV object\n",
        "xgb_grid_search = GridSearchCV(xgb_model, param_grid, scoring=recall_scorer)\n",
        "\n",
        "# fit the GridSearchCV object to the data\n",
        "xgb_grid_search.fit(X_train, Y_train)\n",
        "\n",
        "featimp = pd.Series(gd_sr.best_estimator_.named_steps[\"classification\"].feature_importances_, index=list(X)).sort_values(ascending=False) # Getting feature importances list for the best model\n",
        "print(featimp)\n",
        "# print the best parameters and the best recall score\n",
        "print(\"Best parameters: \", xgb_grid_search.best_params_)\n",
        "print(\"Best recall score: \", xgb_grid_search.best_score_) # Mean cross-validated score of the best_estimator\n",
        "\n",
        "\n",
        "# evaluate the model on the test set\n",
        "y_pred = xgb_grid_search.predict(X_test)\n",
        "test_recall = recall_score(Y_test, y_pred)\n",
        "print(\"Test recall score: \", test_recall)"
      ],
      "metadata": {
        "colab": {
          "base_uri": "https://localhost:8080/"
        },
        "id": "UD-nkabbBS4j",
        "outputId": "bcc1cddc-4c0f-424f-ef85-d2629b7c9ff6"
      },
      "execution_count": null,
      "outputs": [
        {
          "output_type": "stream",
          "name": "stdout",
          "text": [
            "Delivery Status                  0.437708\n",
            "Type                             0.273321\n",
            "Late_delivery_risk               0.119655\n",
            "Days for shipping (real)         0.033609\n",
            "Customer Segment                 0.012317\n",
            "Shipping Mode                    0.010081\n",
            "Order Item Profit Ratio          0.009783\n",
            "Days for shipment (scheduled)    0.008944\n",
            "Order Item Discount Rate         0.006864\n",
            "Order Item Discount              0.005440\n",
            "Customer Id                      0.005212\n",
            "Order Item Quantity              0.005195\n",
            "Latitude                         0.004675\n",
            "Order City                       0.004639\n",
            "Order State                      0.004617\n",
            "Order Country                    0.004526\n",
            "Longitude                        0.004267\n",
            "Order Item Id                    0.004050\n",
            "Order Id                         0.004028\n",
            "Order Region                     0.003913\n",
            "Department Id                    0.003699\n",
            "Customer State                   0.003556\n",
            "Customer City                    0.003550\n",
            "Category Id                      0.003519\n",
            "Sales                            0.003117\n",
            "Product Card Id                  0.003114\n",
            "Market                           0.003091\n",
            "Sales per customer               0.002916\n",
            "Benefit per order                0.002683\n",
            "Product Price                    0.002585\n",
            "Category Name                    0.002478\n",
            "Product Name                     0.002378\n",
            "Customer Country                 0.000468\n",
            "dtype: float64\n",
            "Best parameters:  {'learning_rate': 0.3, 'max_depth': 7, 'n_estimators': 300}\n",
            "Best recall score:  0.8573853790891993\n",
            "Test recall score:  0.8880658436213992\n"
          ]
        }
      ]
    },
    {
      "cell_type": "code",
      "source": [
        "# Calculate the recall score\n",
        "recall = recall_score(Y_test, y_pred)\n",
        "print(\"Recall Score:\", recall)\n",
        "\n",
        "# Compare the training and test recall scores\n",
        "train_recall = recall_score(Y_train, xgb_grid_search.predict(X_train))\n",
        "print(\"Training Recall Score:\", train_recall)"
      ],
      "metadata": {
        "colab": {
          "base_uri": "https://localhost:8080/"
        },
        "id": "WBVXW8XjDKHO",
        "outputId": "6ed7c23e-9a06-449a-a378-41e3fc355a30"
      },
      "execution_count": null,
      "outputs": [
        {
          "output_type": "stream",
          "name": "stdout",
          "text": [
            "Recall Score: 0.8880658436213992\n",
            "Training Recall Score: 1.0\n"
          ]
        }
      ]
    },
    {
      "cell_type": "markdown",
      "source": [
        "XG BOOST With SMOTE"
      ],
      "metadata": {
        "id": "fNmrdY5x894g"
      }
    },
    {
      "cell_type": "code",
      "source": [
        "# oversample minority class using SMOTE\n",
        "sm = SMOTE()\n",
        "X_train, Y_train = sm.fit_resample(X_train, Y_train)\n",
        "\n",
        "# define xgboost classifier\n",
        "xgb_clf = xgb.XGBClassifier()\n",
        "\n",
        "# define hyperparameter grid to search\n",
        "param_grid = {'max_depth': [3, 5, 7],\n",
        "              'learning_rate': [0.1, 0.3, 0.5],\n",
        "              'n_estimators': [100, 200, 300]}\n",
        "\n",
        "# define scoring metric as recall\n",
        "scoring = {'Recall': 'recall'}\n",
        "\n",
        "# perform grid search with cross-validation\n",
        "xgb_grid = GridSearchCV(xgb_clf, param_grid, cv=5, scoring=scoring, refit='Recall')\n",
        "xgb_grid.fit(X_train, Y_train)\n",
        "\n",
        "# print best parameters and recall score\n",
        "print(\"Best parameters: \", xgb_grid.best_params_)\n",
        "print(\"Best recall score: \", xgb_grid.best_score_)\n",
        "\n",
        "# make predictions on test set and evaluate recall score\n",
        "y_pred = xgb_grid.predict(X_test)\n",
        "test_recall = recall_score(Y_test, y_pred)\n",
        "print(\"Test recall score: \", test_recall)\n",
        "\n",
        "# Calculate the recall score\n",
        "recall = recall_score(Y_test, y_pred)\n",
        "print(\"Recall Score:\", recall)\n",
        "\n",
        "# Compare the training and test recall scores\n",
        "train_recall = recall_score(Y_train, xgb_grid.predict(X_train))\n",
        "print(\"Training Recall Score:\", train_recall)"
      ],
      "metadata": {
        "colab": {
          "base_uri": "https://localhost:8080/"
        },
        "id": "vxNJYgOzeczI",
        "outputId": "2bda4ded-b69b-46f2-b515-045596321892"
      },
      "execution_count": null,
      "outputs": [
        {
          "output_type": "stream",
          "name": "stdout",
          "text": [
            "Best parameters:  {'learning_rate': 0.1, 'max_depth': 7, 'n_estimators': 300}\n",
            "Best recall score:  0.9857588147188601\n",
            "Test recall score:  0.8724279835390947\n"
          ]
        }
      ]
    },
    {
      "cell_type": "code",
      "source": [
        "# Calculate the recall score\n",
        "recall = recall_score(Y_test, y_pred)\n",
        "print(\"Recall Score:\", recall)\n",
        "\n",
        "# Compare the training and test recall scores\n",
        "train_recall = recall_score(Y_train, xgb_grid.predict(X_train))\n",
        "print(\"Training Recall Score:\", train_recall)"
      ],
      "metadata": {
        "colab": {
          "base_uri": "https://localhost:8080/"
        },
        "id": "15zC6SzgeUNN",
        "outputId": "e637c67a-7bd2-4b93-fe88-a4272098b55f"
      },
      "execution_count": null,
      "outputs": [
        {
          "output_type": "stream",
          "name": "stdout",
          "text": [
            "Recall Score: 0.8987654320987655\n",
            "Training Recall Score: 1.0\n"
          ]
        }
      ]
    },
    {
      "cell_type": "markdown",
      "source": [
        "###XGBoost Confusion matrix and ROC Curve"
      ],
      "metadata": {
        "id": "6yHMH3FQ1GWn"
      }
    },
    {
      "cell_type": "code",
      "source": [
        "from xgboost import XGBClassifier\n",
        "clf_xgb = XGBClassifier(n_estimators = 300, learning_rate = 0.1, max_depth = 7)\n",
        "trained_ada_model, y_predict_ada = ML_model_training_testing(clf_xgb, X_train, Y_train, X_test, Y_test)\n",
        "plotROCcurve(Y_test, y_predict_ada, classifier_name=\"xgb\")"
      ],
      "metadata": {
        "colab": {
          "base_uri": "https://localhost:8080/",
          "height": 469
        },
        "id": "-iXOBF_rBem2",
        "outputId": "171b74ea-ddb8-461f-d104-4416a3424f70"
      },
      "execution_count": null,
      "outputs": [
        {
          "output_type": "stream",
          "name": "stdout",
          "text": [
            "Train accuracy = 99.9936\n",
            "Cross validation accuracy= 99.4183\n",
            "Confusion matrix\n",
            "[[52782   159]\n",
            " [  123  1092]]\n",
            "Precision = 87.29016786570743\n",
            "Accuracy = 99.47928207400842\n",
            "F1 Score = 88.56447688564477\n",
            "Recall = 89.87654320987654\n"
          ]
        },
        {
          "output_type": "display_data",
          "data": {
            "text/plain": [
              "<Figure size 432x288 with 0 Axes>"
            ]
          },
          "metadata": {}
        },
        {
          "output_type": "display_data",
          "data": {
            "text/plain": [
              "<Figure size 432x288 with 1 Axes>"
            ],
            "image/png": "[encoded data removed]"
          },
          "metadata": {
            "needs_background": "light"
          }
        }
      ]
    },
    {
      "cell_type": "markdown",
      "source": [
        "\n",
        "# **Recall scores of XGBoost model**\n",
        "\n",
        "*   XG Boost Baseline Model:0.73\n",
        "*   XG Boost Hyperparameter tuned Model: 0.88\n",
        "*   XG Boost with SMOTE Model:0.98\n",
        "\n",
        "# **Precision, Recall, Accuracy and F1 scores of XGBoost model**\n",
        "*   Precision = 87.29\n",
        "*   Accuracy = 99.47\n",
        "*   F1 Score = 88.56\n",
        "*   Recall = 89.87\n",
        "\n",
        "\n"
      ],
      "metadata": {
        "id": "lAUf9Z0PlOnj"
      }
    },
    {
      "cell_type": "markdown",
      "source": [
        "###Conclusion\n",
        "\n",
        "Adaboost model with SMOTE has a recall score of 0.99 with only few features. The test score and train score of 0.99 suggests that the model is performing well on both the training and test data making it a best model.\n"
      ],
      "metadata": {
        "id": "ejgn0CR83ZHe"
      }
    },
    {
      "cell_type": "markdown",
      "source": [
        "##AUC of classifiers without SMOTE\n",
        "*  Random Forest ROC = 0.91\n",
        "*  AdaBoost ROC = 0.89\n",
        "*  XGBoost ROC = 0.94\n",
        "*  SVM ROC = 0.81"
      ],
      "metadata": {
        "id": "VjqBDY8Rl3Xm"
      }
    }
  ],
  "metadata": {
    "colab": {
      "provenance": [],
      "authorship_tag": "ABX9TyMwxoRgEdWF8T/S6SqJLpd9",
      "include_colab_link": true
    },
    "kernelspec": {
      "display_name": "Python 3",
      "name": "python3"
    },
    "language_info": {
      "name": "python"
    }
  },
  "nbformat": 4,
  "nbformat_minor": 0
}